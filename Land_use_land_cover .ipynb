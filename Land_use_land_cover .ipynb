{
 "cells": [
  {
   "cell_type": "code",
   "execution_count": 3,
   "id": "0c336d4d",
   "metadata": {},
   "outputs": [],
   "source": [
    "#import libraries\n",
    "import ee\n",
    "import geemap\n"
   ]
  },
  {
   "cell_type": "code",
   "execution_count": 4,
   "id": "e83e160b",
   "metadata": {},
   "outputs": [
    {
     "data": {
      "text/html": [
       "\n",
       "            <style>\n",
       "                .geemap-dark {\n",
       "                    --jp-widgets-color: white;\n",
       "                    --jp-widgets-label-color: white;\n",
       "                    --jp-ui-font-color1: white;\n",
       "                    --jp-layout-color2: #454545;\n",
       "                    background-color: #383838;\n",
       "                }\n",
       "\n",
       "                .geemap-dark .jupyter-button {\n",
       "                    --jp-layout-color3: #383838;\n",
       "                }\n",
       "\n",
       "                .geemap-colab {\n",
       "                    background-color: var(--colab-primary-surface-color, white);\n",
       "                }\n",
       "\n",
       "                .geemap-colab .jupyter-button {\n",
       "                    --jp-layout-color3: var(--colab-primary-surface-color, white);\n",
       "                }\n",
       "            </style>\n",
       "            "
      ],
      "text/plain": [
       "<IPython.core.display.HTML object>"
      ]
     },
     "metadata": {},
     "output_type": "display_data"
    }
   ],
   "source": [
    "geemap.ee_initialize()\n"
   ]
  },
  {
   "cell_type": "code",
   "execution_count": 1,
   "id": "9cada932",
   "metadata": {},
   "outputs": [
    {
     "ename": "NameError",
     "evalue": "name 'geemap' is not defined",
     "output_type": "error",
     "traceback": [
      "\u001b[31m---------------------------------------------------------------------------\u001b[39m",
      "\u001b[31mNameError\u001b[39m                                 Traceback (most recent call last)",
      "\u001b[36mCell\u001b[39m\u001b[36m \u001b[39m\u001b[32mIn[1]\u001b[39m\u001b[32m, line 1\u001b[39m\n\u001b[32m----> \u001b[39m\u001b[32m1\u001b[39m Map = \u001b[43mgeemap\u001b[49m.Map(draw_ctrl=\u001b[38;5;28;01mFalse\u001b[39;00m, data_ctrl=\u001b[38;5;28;01mFalse\u001b[39;00m, measure_ctrl=\u001b[38;5;28;01mFalse\u001b[39;00m, zoom_ctrl=\u001b[38;5;28;01mFalse\u001b[39;00m, fullscreen_ctrl=\u001b[38;5;28;01mTrue\u001b[39;00m, toolbar_ctrl=\u001b[38;5;28;01mFalse\u001b[39;00m)\n\u001b[32m      2\u001b[39m World_LandCover= ee.ImageCollection(\u001b[33m'\u001b[39m\u001b[33mESA/WorldCover/v200\u001b[39m\u001b[33m'\u001b[39m).first() \u001b[38;5;66;03m#call the named dataset from google earth engine with band name Map\u001b[39;00m\n\u001b[32m      3\u001b[39m url = \u001b[33m\"\u001b[39m\u001b[33mhttps://mt1.google.com/vt/lyrs=s&x=\u001b[39m\u001b[38;5;132;01m{x}\u001b[39;00m\u001b[33m&y=\u001b[39m\u001b[38;5;132;01m{y}\u001b[39;00m\u001b[33m&z=\u001b[39m\u001b[38;5;132;01m{z}\u001b[39;00m\u001b[33m\"\u001b[39m \u001b[38;5;66;03m# Add Google satellite imagery\u001b[39;00m\n",
      "\u001b[31mNameError\u001b[39m: name 'geemap' is not defined"
     ]
    }
   ],
   "source": [
    "Map = geemap.Map(draw_ctrl=False, data_ctrl=False, measure_ctrl=False, zoom_ctrl=False, fullscreen_ctrl=True, toolbar_ctrl=False)\n",
    "World_LandCover= ee.ImageCollection('ESA/WorldCover/v200').first() #call the named dataset from google earth engine with band name Map\n",
    "url = \"https://mt1.google.com/vt/lyrs=s&x={x}&y={y}&z={z}\" # Add Google satellite imagery\n",
    "\n",
    "#filter the dataset to Ghana to get the land cover of Ghana\n",
    "World_boundaries=ee.FeatureCollection('FAO/GAUL/2015/level0')\n",
    "ghana=World_boundaries.filter(ee.Filter.eq('ADM0_NAME', 'Ghana'))\n",
    "vis_poly={\n",
    "    'color': 'red',\n",
    "    'fillColor': '#ff0000',\n",
    "    'opacity': 0.5,\n",
    "    'width': 2,\n",
    "}\n",
    "\n",
    "Legend_dic={\n",
    "    \"10\tTree cover\":\"#006400\",\n",
    "    \"20\tShrubland\":\"#ffbb22\",\n",
    "    \"30\tGrassland\":\"#ffff4c\",\n",
    "    \"40\tCropland\":\"#f096ff\",\n",
    "    \"50\tBuilt-up\":\"#fa0000\",\n",
    "    \"60\tBare / sparse vegetation\":\"#b4b4b4\",\n",
    "    \"80\tPermanent water bodies\":\"#0064c8\",\n",
    "    \"90\tHerbaceous wetland\":\"#0096a0\",\n",
    "    \"95\tMangroves\":\"#00cf75\",\n",
    "    \"100 Moss and lichen\":\"#fae6a0\",\n",
    "\n",
    "}\n",
    "landcover=World_LandCover.clip(ghana.geometry())\n",
    "\n",
    "\n",
    "visualization = {\n",
    "    \"bands\": ['Map'],\n",
    "    \n",
    "}\n",
    "# Add layers for visualization\n",
    "Map.add_tile_layer(url, name=\"Google Satellite\", attribution=\"Google\")\n",
    "Map.addLayer(landcover, visualization, 'Land Cover', opacity=0.5)\n",
    "Map.add_legend(title=\"NLCD Land Cover Classification\", legend_dict=Legend_dic, position='bottomright')\n",
    "Map.centerObject(landcover, 7)\n",
    "Map.add_text(text='Land Cover of Ghana', position='topleft', fontcolor=\"#black\")\n",
    "Map.add_text(text='Designed_By:SMS', fontsize=10, position='bottomleft')\n",
    "Map.add_layer_control(position=\"topright\")\n",
    "# Map.to_html(\n",
    "#     \"GhanaLCD.html\",\n",
    "#     title=\"Ghana National Land Cover\",\n",
    "#     width=\"100%\",\n",
    "#     height=\"100%\")\n",
    "Map\n",
    "\n"
   ]
  },
  {
   "cell_type": "code",
   "execution_count": 67,
   "id": "d8c620e9",
   "metadata": {},
   "outputs": [
    {
     "data": {
      "text/html": [
       "\n",
       "            <style>\n",
       "                .geemap-dark {\n",
       "                    --jp-widgets-color: white;\n",
       "                    --jp-widgets-label-color: white;\n",
       "                    --jp-ui-font-color1: white;\n",
       "                    --jp-layout-color2: #454545;\n",
       "                    background-color: #383838;\n",
       "                }\n",
       "\n",
       "                .geemap-dark .jupyter-button {\n",
       "                    --jp-layout-color3: #383838;\n",
       "                }\n",
       "\n",
       "                .geemap-colab {\n",
       "                    background-color: var(--colab-primary-surface-color, white);\n",
       "                }\n",
       "\n",
       "                .geemap-colab .jupyter-button {\n",
       "                    --jp-layout-color3: var(--colab-primary-surface-color, white);\n",
       "                }\n",
       "            </style>\n",
       "            "
      ],
      "text/plain": [
       "<IPython.core.display.HTML object>"
      ]
     },
     "metadata": {},
     "output_type": "display_data"
    },
    {
     "data": {
      "application/vnd.jupyter.widget-view+json": {
       "model_id": "f9f655a99a1c437ca7fb1e1c4e2ace27",
       "version_major": 2,
       "version_minor": 0
      },
      "text/plain": [
       "Map(center=[54.98535499740582, -114.40511584284997], controls=(ScaleControl(options=['imperial', 'max_width', …"
      ]
     },
     "execution_count": 67,
     "metadata": {},
     "output_type": "execute_result"
    }
   ],
   "source": [
    "Map = geemap.Map(draw_ctrl=False, data_ctrl=False, measure_ctrl=False, zoom_ctrl=False, fullscreen_ctrl=False, toolbar_ctrl=False)\n",
    "World_LandCover= ee.ImageCollection('ESA/WorldCover/v200').first() #call the named dataset from google earth engine with band name Map\n",
    "\n",
    "\n",
    "visualization = {\n",
    "    \"bands\": ['Map'],\n",
    "    \n",
    "}\n",
    "#filter the dataset to canada_alberta to get the land cover of Ghana\n",
    "World_boundaries=ee.FeatureCollection(\"FAO/GAUL_SIMPLIFIED_500m/2015/level1\")\n",
    "Alberta=World_boundaries.filter(ee.Filter.eq('ADM1_NAME', 'Alberta'))\n",
    "vis_poly={\n",
    "    \"color\": \"0000ffff\", \"width\": 2, \"lineType\": \"solid\", \"fillColor\": \"FF000080\"\n",
    "}\n",
    "\n",
    "Legend_dic={\n",
    "    \"10\tTree cover\":\"#006400\",\n",
    "    \"20\tShrubland\":\"#ffbb22\",\n",
    "    \"30\tGrassland\":\"#ffff4c\",\n",
    "    \"40\tCropland\":\"#f096ff\",\n",
    "    \"50\tBuilt-up\":\"#fa0000\",\n",
    "    \"60\tBare / sparse vegetation\":\"#b4b4b4\",\n",
    "    \"70 Snow and ice\":\"#f0f0f0\",\n",
    "    \"80\tPermanent water bodies\":\"#0064c8\",\n",
    "    \"90\tHerbaceous wetland\":\"#0096a0\",\n",
    "    \"95\tMangroves\":\"#00cf75\",\n",
    "    \"100 Moss and lichen\":\"#fae6a0\",\n",
    "\n",
    "}\n",
    "ABLCD=World_LandCover.clip(Alberta.geometry())\n",
    "Canada_Alberta=geemap.ee_tile_layer(ABLCD, {}, name=\"Alberta\", opacity=0.5)\n",
    "Map.addLayer(ABLCD, visualization, 'Land Cover Alberta')\n",
    "Map.add_legend(title=\"NLCD Land Cover Classification\", legend_dict=Legend_dic, position='bottomright')\n",
    "Map.centerObject(ABLCD, 8)\n",
    "Map.add_text(text='Land Cover of Canada-Alberta', position='topleft', fontcolor=\"#black\")\n",
    "Map.add_text(text='Designed_By:SMS', fontsize=10, position='bottomleft')\n",
    "Map.add_layer_control(position=\"topright\")\n",
    "Map\n"
   ]
  },
  {
   "cell_type": "code",
   "execution_count": null,
   "id": "2e029777",
   "metadata": {},
   "outputs": [],
   "source": [
    "#first get(stream) the datasets(image collections) form 2001 to 2024 for the world landcover datasets\n",
    "# this is done by filtering the datasets for the specified data \n",
    "# get the featurecollections for administrative bounday with the attributes containing the dictionary key ADMO1 for alberta.\n",
    "# create the bounds by just extracting your required area of interest in this case Alberta   "
   ]
  },
  {
   "cell_type": "code",
   "execution_count": 97,
   "id": "63f68a3d",
   "metadata": {},
   "outputs": [
    {
     "data": {
      "text/html": [
       "\n",
       "            <style>\n",
       "                .geemap-dark {\n",
       "                    --jp-widgets-color: white;\n",
       "                    --jp-widgets-label-color: white;\n",
       "                    --jp-ui-font-color1: white;\n",
       "                    --jp-layout-color2: #454545;\n",
       "                    background-color: #383838;\n",
       "                }\n",
       "\n",
       "                .geemap-dark .jupyter-button {\n",
       "                    --jp-layout-color3: #383838;\n",
       "                }\n",
       "\n",
       "                .geemap-colab {\n",
       "                    background-color: var(--colab-primary-surface-color, white);\n",
       "                }\n",
       "\n",
       "                .geemap-colab .jupyter-button {\n",
       "                    --jp-layout-color3: var(--colab-primary-surface-color, white);\n",
       "                }\n",
       "            </style>\n",
       "            "
      ],
      "text/plain": [
       "<IPython.core.display.HTML object>"
      ]
     },
     "metadata": {},
     "output_type": "display_data"
    }
   ],
   "source": [
    "m = geemap.Map(center=[54.0, -115.0],zoom=7, draw_ctrl=False, data_ctrl=False, measure_ctrl=False, zoom_ctrl=False, fullscreen_ctrl=False, toolbar_ctrl=False)\n",
    "Landcover_series= ee.ImageCollection(\"MODIS/061/MCD12Q1\").select(\"LC_Type1\")\n",
    "vis_params = { \"min\": 1.0,\n",
    "  \"max\": 17.0,\n",
    "  \"palette\": [\n",
    "    '05450a', '086a10', '54a708', '78d203', '009900', 'c6b044', 'dcd159',\n",
    "    'dade48', 'fbff13', 'b6ff05', '27ff87', 'c24f44', 'a5a5a5', 'ff6d4c',\n",
    "    '69fff8', 'f9ffa4', '1c0dff',\n",
    "  ],\n",
    "  }\n",
    "# years = Landcover_series.getInfo()\n",
    "# years\n"
   ]
  },
  {
   "cell_type": "code",
   "execution_count": 98,
   "id": "b9c8a5d6",
   "metadata": {},
   "outputs": [
    {
     "data": {
      "text/html": [
       "\n",
       "            <style>\n",
       "                .geemap-dark {\n",
       "                    --jp-widgets-color: white;\n",
       "                    --jp-widgets-label-color: white;\n",
       "                    --jp-ui-font-color1: white;\n",
       "                    --jp-layout-color2: #454545;\n",
       "                    background-color: #383838;\n",
       "                }\n",
       "\n",
       "                .geemap-dark .jupyter-button {\n",
       "                    --jp-layout-color3: #383838;\n",
       "                }\n",
       "\n",
       "                .geemap-colab {\n",
       "                    background-color: var(--colab-primary-surface-color, white);\n",
       "                }\n",
       "\n",
       "                .geemap-colab .jupyter-button {\n",
       "                    --jp-layout-color3: var(--colab-primary-surface-color, white);\n",
       "                }\n",
       "            </style>\n",
       "            "
      ],
      "text/plain": [
       "<IPython.core.display.HTML object>"
      ]
     },
     "metadata": {},
     "output_type": "display_data"
    }
   ],
   "source": [
    "# second_collection=ee.ImageCollection(Landcover_series.toList(13).get(12))"
   ]
  },
  {
   "cell_type": "code",
   "execution_count": 99,
   "id": "75b66e4f",
   "metadata": {},
   "outputs": [
    {
     "data": {
      "text/html": [
       "\n",
       "            <style>\n",
       "                .geemap-dark {\n",
       "                    --jp-widgets-color: white;\n",
       "                    --jp-widgets-label-color: white;\n",
       "                    --jp-ui-font-color1: white;\n",
       "                    --jp-layout-color2: #454545;\n",
       "                    background-color: #383838;\n",
       "                }\n",
       "\n",
       "                .geemap-dark .jupyter-button {\n",
       "                    --jp-layout-color3: #383838;\n",
       "                }\n",
       "\n",
       "                .geemap-colab {\n",
       "                    background-color: var(--colab-primary-surface-color, white);\n",
       "                }\n",
       "\n",
       "                .geemap-colab .jupyter-button {\n",
       "                    --jp-layout-color3: var(--colab-primary-surface-color, white);\n",
       "                }\n",
       "            </style>\n",
       "            "
      ],
      "text/plain": [
       "<IPython.core.display.HTML object>"
      ]
     },
     "metadata": {},
     "output_type": "display_data"
    }
   ],
   "source": [
    "selected_imageCollecn=Landcover_series.first()"
   ]
  },
  {
   "cell_type": "code",
   "execution_count": null,
   "id": "593b4bc7",
   "metadata": {},
   "outputs": [
    {
     "data": {
      "text/html": [
       "\n",
       "            <style>\n",
       "                .geemap-dark {\n",
       "                    --jp-widgets-color: white;\n",
       "                    --jp-widgets-label-color: white;\n",
       "                    --jp-ui-font-color1: white;\n",
       "                    --jp-layout-color2: #454545;\n",
       "                    background-color: #383838;\n",
       "                }\n",
       "\n",
       "                .geemap-dark .jupyter-button {\n",
       "                    --jp-layout-color3: #383838;\n",
       "                }\n",
       "\n",
       "                .geemap-colab {\n",
       "                    background-color: var(--colab-primary-surface-color, white);\n",
       "                }\n",
       "\n",
       "                .geemap-colab .jupyter-button {\n",
       "                    --jp-layout-color3: var(--colab-primary-surface-color, white);\n",
       "                }\n",
       "            </style>\n",
       "            "
      ],
      "text/plain": [
       "<IPython.core.display.HTML object>"
      ]
     },
     "metadata": {},
     "output_type": "display_data"
    }
   ],
   "source": [
    "World_boundaries=ee.FeatureCollection(\"FAO/GAUL_SIMPLIFIED_500m/2015/level1\")\n",
    "Alberta=World_boundaries.filter(ee.Filter.eq('ADM1_NAME', 'Alberta'))\n",
    "vis_poly={\n",
    "    \"color\": \"0000ffff\", \"width\": 2, \"lineType\": \"solid\", \"fillColor\": \"FF000080\"\n",
    "}\n",
    "def Clip_singel_image(selected_imageCollecn):\n",
    "    return selected_imageCollecn.clip(Alberta.geometry())\n",
    "\n",
    "\n",
    "\n"
   ]
  },
  {
   "cell_type": "code",
   "execution_count": 106,
   "id": "068089d1",
   "metadata": {},
   "outputs": [
    {
     "data": {
      "text/html": [
       "\n",
       "            <style>\n",
       "                .geemap-dark {\n",
       "                    --jp-widgets-color: white;\n",
       "                    --jp-widgets-label-color: white;\n",
       "                    --jp-ui-font-color1: white;\n",
       "                    --jp-layout-color2: #454545;\n",
       "                    background-color: #383838;\n",
       "                }\n",
       "\n",
       "                .geemap-dark .jupyter-button {\n",
       "                    --jp-layout-color3: #383838;\n",
       "                }\n",
       "\n",
       "                .geemap-colab {\n",
       "                    background-color: var(--colab-primary-surface-color, white);\n",
       "                }\n",
       "\n",
       "                .geemap-colab .jupyter-button {\n",
       "                    --jp-layout-color3: var(--colab-primary-surface-color, white);\n",
       "                }\n",
       "            </style>\n",
       "            "
      ],
      "text/plain": [
       "<IPython.core.display.HTML object>"
      ]
     },
     "metadata": {},
     "output_type": "display_data"
    }
   ],
   "source": [
    "select_all_collections=Landcover_series.map(Clip_singel_image)"
   ]
  },
  {
   "cell_type": "code",
   "execution_count": 80,
   "id": "10a88729",
   "metadata": {},
   "outputs": [
    {
     "data": {
      "text/html": [
       "\n",
       "            <style>\n",
       "                .geemap-dark {\n",
       "                    --jp-widgets-color: white;\n",
       "                    --jp-widgets-label-color: white;\n",
       "                    --jp-ui-font-color1: white;\n",
       "                    --jp-layout-color2: #454545;\n",
       "                    background-color: #383838;\n",
       "                }\n",
       "\n",
       "                .geemap-dark .jupyter-button {\n",
       "                    --jp-layout-color3: #383838;\n",
       "                }\n",
       "\n",
       "                .geemap-colab {\n",
       "                    background-color: var(--colab-primary-surface-color, white);\n",
       "                }\n",
       "\n",
       "                .geemap-colab .jupyter-button {\n",
       "                    --jp-layout-color3: var(--colab-primary-surface-color, white);\n",
       "                }\n",
       "            </style>\n",
       "            "
      ],
      "text/plain": [
       "<IPython.core.display.HTML object>"
      ]
     },
     "metadata": {},
     "output_type": "display_data"
    }
   ],
   "source": [
    "years = select_all_collections.get('system:index').getInfo()\n",
    "years"
   ]
  },
  {
   "cell_type": "code",
   "execution_count": 108,
   "id": "76add9cd",
   "metadata": {},
   "outputs": [
    {
     "data": {
      "text/html": [
       "\n",
       "            <style>\n",
       "                .geemap-dark {\n",
       "                    --jp-widgets-color: white;\n",
       "                    --jp-widgets-label-color: white;\n",
       "                    --jp-ui-font-color1: white;\n",
       "                    --jp-layout-color2: #454545;\n",
       "                    background-color: #383838;\n",
       "                }\n",
       "\n",
       "                .geemap-dark .jupyter-button {\n",
       "                    --jp-layout-color3: #383838;\n",
       "                }\n",
       "\n",
       "                .geemap-colab {\n",
       "                    background-color: var(--colab-primary-surface-color, white);\n",
       "                }\n",
       "\n",
       "                .geemap-colab .jupyter-button {\n",
       "                    --jp-layout-color3: var(--colab-primary-surface-color, white);\n",
       "                }\n",
       "            </style>\n",
       "            "
      ],
      "text/plain": [
       "<IPython.core.display.HTML object>"
      ]
     },
     "metadata": {},
     "output_type": "display_data"
    }
   ],
   "source": [
    "legend_dict = {\n",
    "    \"1 Evergreen Needleleaf Forests\": \"#05450a\",\n",
    "    \"2 Evergreen Broadleaf Forests\": \"#086a10\",\n",
    "    \"3 Deciduous Needleleaf Forests\": \"#54a708\",\n",
    "    \"4 Deciduous Broadleaf Forests\": \"#78d203\",\n",
    "    \"5 Mixed Forests\": \"#009900\",\n",
    "    \"6 Closed Shrublands\": \"#c6b044\",\n",
    "    \"7 Open Shrublands\": \"#dcd159\",\n",
    "    \"8 Woody Savannas\": \"#dade48\",\n",
    "    \"9 Savannas\": \"#fbff13\",\n",
    "    \"10 Grasslands\": \"#b6ff05\",\n",
    "    \"11 Permanent Wetlands\": \"#27ff87\",\n",
    "    \"12 Croplands\": \"#c24f44\",\n",
    "    \"13 Urban and Built-up Lands\": \"#a5a5a5\",\n",
    "    \"14 Cropland/Natural Vegetation Mosaics\": \"#ff6d4c\",\n",
    "    \"15 Permanent Snow and Ice\": \"#69fff8\",\n",
    "    \"16 Barren\": \"#f9ffa4\",\n",
    "    \"17 Water Bodies\": \"#1c0df\",\n",
    "    \n",
    "}"
   ]
  },
  {
   "cell_type": "code",
   "execution_count": 111,
   "id": "6d9b9e19",
   "metadata": {},
   "outputs": [
    {
     "data": {
      "text/html": [
       "\n",
       "            <style>\n",
       "                .geemap-dark {\n",
       "                    --jp-widgets-color: white;\n",
       "                    --jp-widgets-label-color: white;\n",
       "                    --jp-ui-font-color1: white;\n",
       "                    --jp-layout-color2: #454545;\n",
       "                    background-color: #383838;\n",
       "                }\n",
       "\n",
       "                .geemap-dark .jupyter-button {\n",
       "                    --jp-layout-color3: #383838;\n",
       "                }\n",
       "\n",
       "                .geemap-colab {\n",
       "                    background-color: var(--colab-primary-surface-color, white);\n",
       "                }\n",
       "\n",
       "                .geemap-colab .jupyter-button {\n",
       "                    --jp-layout-color3: var(--colab-primary-surface-color, white);\n",
       "                }\n",
       "            </style>\n",
       "            "
      ],
      "text/plain": [
       "<IPython.core.display.HTML object>"
      ]
     },
     "metadata": {},
     "output_type": "display_data"
    }
   ],
   "source": [
    "import os\n",
    "os.environ[\"MAPTILER_KEY\"]=\"hAU2ZKHm5SFXNGFxBhtX\""
   ]
  },
  {
   "cell_type": "code",
   "execution_count": 112,
   "id": "3aba384b",
   "metadata": {},
   "outputs": [
    {
     "data": {
      "text/html": [
       "\n",
       "            <style>\n",
       "                .geemap-dark {\n",
       "                    --jp-widgets-color: white;\n",
       "                    --jp-widgets-label-color: white;\n",
       "                    --jp-ui-font-color1: white;\n",
       "                    --jp-layout-color2: #454545;\n",
       "                    background-color: #383838;\n",
       "                }\n",
       "\n",
       "                .geemap-dark .jupyter-button {\n",
       "                    --jp-layout-color3: #383838;\n",
       "                }\n",
       "\n",
       "                .geemap-colab {\n",
       "                    background-color: var(--colab-primary-surface-color, white);\n",
       "                }\n",
       "\n",
       "                .geemap-colab .jupyter-button {\n",
       "                    --jp-layout-color3: var(--colab-primary-surface-color, white);\n",
       "                }\n",
       "            </style>\n",
       "            "
      ],
      "text/plain": [
       "<IPython.core.display.HTML object>"
      ]
     },
     "metadata": {},
     "output_type": "display_data"
    },
    {
     "name": "stdout",
     "output_type": "stream",
     "text": [
      "height must end with px\n"
     ]
    },
    {
     "data": {
      "application/vnd.jupyter.widget-view+json": {
       "model_id": "439b560086cc4b3d94f9da65cb7cd17c",
       "version_major": 2,
       "version_minor": 0
      },
      "text/plain": [
       "Map(bottom=1607.0, center=[54.41892996865827, -114.60937500000001], controls=(WidgetControl(options=['position…"
      ]
     },
     "execution_count": 112,
     "metadata": {},
     "output_type": "execute_result"
    }
   ],
   "source": [
    "m.ts_inspector(\n",
    "    left_ts=select_all_collections,\n",
    "    right_ts=select_all_collections,\n",
    "    left_names=years,\n",
    "    right_names=years,\n",
    "    left_vis=vis_params,\n",
    "    right_vis=vis_params,\n",
    "    legend_dict=legend_dict\n",
    "    \n",
    ")\n",
    "m.addLayerControl()\n",
    "m.to_html(\n",
    "    \"AlbertaLC_series.html\",\n",
    "    title=\"Land Cover for Alberta from 2001 to 2023\",\n",
    "    width=\"100%\",\n",
    "    height=\"100%\",\n",
    "    replace_key=True,\n",
    ")\n",
    "m"
   ]
  },
  {
   "cell_type": "code",
   "execution_count": null,
   "id": "ae56a6ca",
   "metadata": {},
   "outputs": [],
   "source": [
    "geemap.ee_export_image_collection(select_all_collections, out_dir=\".\", scale=10)"
   ]
  }
 ],
 "metadata": {
  "kernelspec": {
   "display_name": "gee",
   "language": "python",
   "name": "python3"
  },
  "language_info": {
   "codemirror_mode": {
    "name": "ipython",
    "version": 3
   },
   "file_extension": ".py",
   "mimetype": "text/x-python",
   "name": "python",
   "nbconvert_exporter": "python",
   "pygments_lexer": "ipython3",
   "version": "3.12.9"
  }
 },
 "nbformat": 4,
 "nbformat_minor": 5
}
