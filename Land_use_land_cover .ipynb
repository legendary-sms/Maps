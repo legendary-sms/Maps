{
 "cells": [
  {
   "cell_type": "code",
   "execution_count": 42,
   "id": "0c336d4d",
   "metadata": {},
   "outputs": [
    {
     "data": {
      "text/html": [
       "\n",
       "            <style>\n",
       "                .geemap-dark {\n",
       "                    --jp-widgets-color: white;\n",
       "                    --jp-widgets-label-color: white;\n",
       "                    --jp-ui-font-color1: white;\n",
       "                    --jp-layout-color2: #454545;\n",
       "                    background-color: #383838;\n",
       "                }\n",
       "\n",
       "                .geemap-dark .jupyter-button {\n",
       "                    --jp-layout-color3: #383838;\n",
       "                }\n",
       "\n",
       "                .geemap-colab {\n",
       "                    background-color: var(--colab-primary-surface-color, white);\n",
       "                }\n",
       "\n",
       "                .geemap-colab .jupyter-button {\n",
       "                    --jp-layout-color3: var(--colab-primary-surface-color, white);\n",
       "                }\n",
       "            </style>\n",
       "            "
      ],
      "text/plain": [
       "<IPython.core.display.HTML object>"
      ]
     },
     "metadata": {},
     "output_type": "display_data"
    }
   ],
   "source": [
    "#import libraries\n",
    "import ee\n",
    "import geemap\n"
   ]
  },
  {
   "cell_type": "code",
   "execution_count": 43,
   "id": "e83e160b",
   "metadata": {},
   "outputs": [
    {
     "data": {
      "text/html": [
       "\n",
       "            <style>\n",
       "                .geemap-dark {\n",
       "                    --jp-widgets-color: white;\n",
       "                    --jp-widgets-label-color: white;\n",
       "                    --jp-ui-font-color1: white;\n",
       "                    --jp-layout-color2: #454545;\n",
       "                    background-color: #383838;\n",
       "                }\n",
       "\n",
       "                .geemap-dark .jupyter-button {\n",
       "                    --jp-layout-color3: #383838;\n",
       "                }\n",
       "\n",
       "                .geemap-colab {\n",
       "                    background-color: var(--colab-primary-surface-color, white);\n",
       "                }\n",
       "\n",
       "                .geemap-colab .jupyter-button {\n",
       "                    --jp-layout-color3: var(--colab-primary-surface-color, white);\n",
       "                }\n",
       "            </style>\n",
       "            "
      ],
      "text/plain": [
       "<IPython.core.display.HTML object>"
      ]
     },
     "metadata": {},
     "output_type": "display_data"
    }
   ],
   "source": [
    "geemap.ee_initialize()\n"
   ]
  },
  {
   "cell_type": "code",
   "execution_count": 44,
   "id": "9cada932",
   "metadata": {},
   "outputs": [
    {
     "data": {
      "text/html": [
       "\n",
       "            <style>\n",
       "                .geemap-dark {\n",
       "                    --jp-widgets-color: white;\n",
       "                    --jp-widgets-label-color: white;\n",
       "                    --jp-ui-font-color1: white;\n",
       "                    --jp-layout-color2: #454545;\n",
       "                    background-color: #383838;\n",
       "                }\n",
       "\n",
       "                .geemap-dark .jupyter-button {\n",
       "                    --jp-layout-color3: #383838;\n",
       "                }\n",
       "\n",
       "                .geemap-colab {\n",
       "                    background-color: var(--colab-primary-surface-color, white);\n",
       "                }\n",
       "\n",
       "                .geemap-colab .jupyter-button {\n",
       "                    --jp-layout-color3: var(--colab-primary-surface-color, white);\n",
       "                }\n",
       "            </style>\n",
       "            "
      ],
      "text/plain": [
       "<IPython.core.display.HTML object>"
      ]
     },
     "metadata": {},
     "output_type": "display_data"
    },
    {
     "ename": "RefreshError",
     "evalue": "('invalid_grant: Token has been expired or revoked.', {'error': 'invalid_grant', 'error_description': 'Token has been expired or revoked.'})",
     "output_type": "error",
     "traceback": [
      "\u001b[31m---------------------------------------------------------------------------\u001b[39m",
      "\u001b[31mRefreshError\u001b[39m                              Traceback (most recent call last)",
      "\u001b[36mCell\u001b[39m\u001b[36m \u001b[39m\u001b[32mIn[44]\u001b[39m\u001b[32m, line 37\u001b[39m\n\u001b[32m     35\u001b[39m \u001b[38;5;66;03m# Add layers for visualization\u001b[39;00m\n\u001b[32m     36\u001b[39m Map.add_tile_layer(url, name=\u001b[33m\"\u001b[39m\u001b[33mGoogle Satellite\u001b[39m\u001b[33m\"\u001b[39m, attribution=\u001b[33m\"\u001b[39m\u001b[33mGoogle\u001b[39m\u001b[33m\"\u001b[39m)\n\u001b[32m---> \u001b[39m\u001b[32m37\u001b[39m \u001b[43mMap\u001b[49m\u001b[43m.\u001b[49m\u001b[43maddLayer\u001b[49m\u001b[43m(\u001b[49m\u001b[43mlandcover\u001b[49m\u001b[43m,\u001b[49m\u001b[43m \u001b[49m\u001b[43mvisualization\u001b[49m\u001b[43m,\u001b[49m\u001b[43m \u001b[49m\u001b[33;43m'\u001b[39;49m\u001b[33;43mLand Cover\u001b[39;49m\u001b[33;43m'\u001b[39;49m\u001b[43m,\u001b[49m\u001b[43m \u001b[49m\u001b[43mopacity\u001b[49m\u001b[43m=\u001b[49m\u001b[32;43m0.5\u001b[39;49m\u001b[43m)\u001b[49m\n\u001b[32m     38\u001b[39m Map.add_legend(title=\u001b[33m\"\u001b[39m\u001b[33mNLCD Land Cover Classification\u001b[39m\u001b[33m\"\u001b[39m, legend_dict=Legend_dic, position=\u001b[33m'\u001b[39m\u001b[33mbottomright\u001b[39m\u001b[33m'\u001b[39m)\n\u001b[32m     39\u001b[39m Map.centerObject(landcover, \u001b[32m7\u001b[39m)\n",
      "\u001b[36mFile \u001b[39m\u001b[32mc:\\Users\\ssarf\\miniconda3\\envs\\gee\\Lib\\site-packages\\geemap\\geemap.py:444\u001b[39m, in \u001b[36mMap.add_ee_layer\u001b[39m\u001b[34m(self, ee_object, vis_params, name, shown, opacity)\u001b[39m\n\u001b[32m    439\u001b[39m         \u001b[38;5;28;01mif\u001b[39;00m has_plot_dropdown:\n\u001b[32m    440\u001b[39m             \u001b[38;5;28mself\u001b[39m._plot_dropdown_widget.options = \u001b[38;5;28mlist\u001b[39m(\n\u001b[32m    441\u001b[39m                 \u001b[38;5;28mself\u001b[39m.ee_raster_layers.keys()\n\u001b[32m    442\u001b[39m             )\n\u001b[32m--> \u001b[39m\u001b[32m444\u001b[39m \u001b[38;5;28;43msuper\u001b[39;49m\u001b[43m(\u001b[49m\u001b[43m)\u001b[49m\u001b[43m.\u001b[49m\u001b[43madd_layer\u001b[49m\u001b[43m(\u001b[49m\u001b[43mee_object\u001b[49m\u001b[43m,\u001b[49m\u001b[43m \u001b[49m\u001b[43mvis_params\u001b[49m\u001b[43m,\u001b[49m\u001b[43m \u001b[49m\u001b[43mname\u001b[49m\u001b[43m,\u001b[49m\u001b[43m \u001b[49m\u001b[43mshown\u001b[49m\u001b[43m,\u001b[49m\u001b[43m \u001b[49m\u001b[43mopacity\u001b[49m\u001b[43m)\u001b[49m\n\u001b[32m    446\u001b[39m \u001b[38;5;28;01mif\u001b[39;00m \u001b[38;5;28misinstance\u001b[39m(ee_object, (ee.Image, ee.ImageCollection)):\n\u001b[32m    447\u001b[39m     \u001b[38;5;28;01mif\u001b[39;00m has_plot_dropdown:\n",
      "\u001b[36mFile \u001b[39m\u001b[32mc:\\Users\\ssarf\\miniconda3\\envs\\gee\\Lib\\site-packages\\geemap\\core.py:1138\u001b[39m, in \u001b[36mMap.add_layer\u001b[39m\u001b[34m(self, ee_object, vis_params, name, shown, opacity)\u001b[39m\n\u001b[32m   1136\u001b[39m \u001b[38;5;28;01mif\u001b[39;00m \u001b[38;5;28misinstance\u001b[39m(ee_object, ee.ImageCollection):\n\u001b[32m   1137\u001b[39m     ee_object = ee_object.mosaic()\n\u001b[32m-> \u001b[39m\u001b[32m1138\u001b[39m tile_layer = \u001b[43mee_tile_layers\u001b[49m\u001b[43m.\u001b[49m\u001b[43mEELeafletTileLayer\u001b[49m\u001b[43m(\u001b[49m\n\u001b[32m   1139\u001b[39m \u001b[43m    \u001b[49m\u001b[43mee_object\u001b[49m\u001b[43m,\u001b[49m\u001b[43m \u001b[49m\u001b[43mvis_params\u001b[49m\u001b[43m,\u001b[49m\u001b[43m \u001b[49m\u001b[43mname\u001b[49m\u001b[43m,\u001b[49m\u001b[43m \u001b[49m\u001b[43mshown\u001b[49m\u001b[43m,\u001b[49m\u001b[43m \u001b[49m\u001b[43mopacity\u001b[49m\n\u001b[32m   1140\u001b[39m \u001b[43m\u001b[49m\u001b[43m)\u001b[49m\n\u001b[32m   1142\u001b[39m \u001b[38;5;66;03m# Remove the layer if it already exists.\u001b[39;00m\n\u001b[32m   1143\u001b[39m \u001b[38;5;28mself\u001b[39m.remove(name)\n",
      "\u001b[36mFile \u001b[39m\u001b[32mc:\\Users\\ssarf\\miniconda3\\envs\\gee\\Lib\\site-packages\\geemap\\ee_tile_layers.py:206\u001b[39m, in \u001b[36mEELeafletTileLayer.__init__\u001b[39m\u001b[34m(self, ee_object, vis_params, name, shown, opacity, **kwargs)\u001b[39m\n\u001b[32m    192\u001b[39m \u001b[38;5;250m\u001b[39m\u001b[33;03m\"\"\"Initialize the ipyleaflet tile layer.\u001b[39;00m\n\u001b[32m    193\u001b[39m \n\u001b[32m    194\u001b[39m \u001b[33;03mArgs:\u001b[39;00m\n\u001b[32m   (...)\u001b[39m\u001b[32m    203\u001b[39m \u001b[33;03m        number between 0 and 1. Defaults to 1.\u001b[39;00m\n\u001b[32m    204\u001b[39m \u001b[33;03m\"\"\"\u001b[39;00m\n\u001b[32m    205\u001b[39m \u001b[38;5;28mself\u001b[39m._ee_object = ee_object\n\u001b[32m--> \u001b[39m\u001b[32m206\u001b[39m \u001b[38;5;28mself\u001b[39m.url_format = \u001b[43m_get_tile_url_format\u001b[49m\u001b[43m(\u001b[49m\n\u001b[32m    207\u001b[39m \u001b[43m    \u001b[49m\u001b[43mee_object\u001b[49m\u001b[43m,\u001b[49m\u001b[43m \u001b[49m\u001b[43m_validate_vis_params\u001b[49m\u001b[43m(\u001b[49m\u001b[43mvis_params\u001b[49m\u001b[43m)\u001b[49m\n\u001b[32m    208\u001b[39m \u001b[43m\u001b[49m\u001b[43m)\u001b[49m\n\u001b[32m    209\u001b[39m \u001b[38;5;28msuper\u001b[39m().\u001b[34m__init__\u001b[39m(\n\u001b[32m    210\u001b[39m     url=\u001b[38;5;28mself\u001b[39m.url_format,\n\u001b[32m    211\u001b[39m     attribution=\u001b[33m\"\u001b[39m\u001b[33mGoogle Earth Engine\u001b[39m\u001b[33m\"\u001b[39m,\n\u001b[32m   (...)\u001b[39m\u001b[32m    216\u001b[39m     **kwargs,\n\u001b[32m    217\u001b[39m )\n",
      "\u001b[36mFile \u001b[39m\u001b[32mc:\\Users\\ssarf\\miniconda3\\envs\\gee\\Lib\\site-packages\\geemap\\ee_tile_layers.py:36\u001b[39m, in \u001b[36m_get_tile_url_format\u001b[39m\u001b[34m(ee_object, vis_params)\u001b[39m\n\u001b[32m     25\u001b[39m \u001b[38;5;250m\u001b[39m\u001b[33;03m\"\"\"Gets the tile URL format for an EE object.\u001b[39;00m\n\u001b[32m     26\u001b[39m \n\u001b[32m     27\u001b[39m \u001b[33;03mArgs:\u001b[39;00m\n\u001b[32m   (...)\u001b[39m\u001b[32m     33\u001b[39m \u001b[33;03m    str: The tile URL format.\u001b[39;00m\n\u001b[32m     34\u001b[39m \u001b[33;03m\"\"\"\u001b[39;00m\n\u001b[32m     35\u001b[39m image = _ee_object_to_image(ee_object, vis_params)\n\u001b[32m---> \u001b[39m\u001b[32m36\u001b[39m map_id_dict = \u001b[43mee\u001b[49m\u001b[43m.\u001b[49m\u001b[43mImage\u001b[49m\u001b[43m(\u001b[49m\u001b[43mimage\u001b[49m\u001b[43m)\u001b[49m\u001b[43m.\u001b[49m\u001b[43mgetMapId\u001b[49m\u001b[43m(\u001b[49m\u001b[43mvis_params\u001b[49m\u001b[43m)\u001b[49m\n\u001b[32m     37\u001b[39m \u001b[38;5;28;01mreturn\u001b[39;00m map_id_dict[\u001b[33m\"\u001b[39m\u001b[33mtile_fetcher\u001b[39m\u001b[33m\"\u001b[39m].url_format\n",
      "\u001b[36mFile \u001b[39m\u001b[32mc:\\Users\\ssarf\\miniconda3\\envs\\gee\\Lib\\site-packages\\ee\\image.py:156\u001b[39m, in \u001b[36mImage.getMapId\u001b[39m\u001b[34m(self, vis_params)\u001b[39m\n\u001b[32m    154\u001b[39m vis_image, request = \u001b[38;5;28mself\u001b[39m._apply_visualization(vis_params)\n\u001b[32m    155\u001b[39m request[\u001b[33m'\u001b[39m\u001b[33mimage\u001b[39m\u001b[33m'\u001b[39m] = vis_image\n\u001b[32m--> \u001b[39m\u001b[32m156\u001b[39m response = \u001b[43mdata\u001b[49m\u001b[43m.\u001b[49m\u001b[43mgetMapId\u001b[49m\u001b[43m(\u001b[49m\u001b[43mrequest\u001b[49m\u001b[43m)\u001b[49m\n\u001b[32m    157\u001b[39m response[\u001b[33m'\u001b[39m\u001b[33mimage\u001b[39m\u001b[33m'\u001b[39m] = \u001b[38;5;28mself\u001b[39m\n\u001b[32m    158\u001b[39m \u001b[38;5;28;01mreturn\u001b[39;00m response\n",
      "\u001b[36mFile \u001b[39m\u001b[32mc:\\Users\\ssarf\\miniconda3\\envs\\gee\\Lib\\site-packages\\ee\\data.py:750\u001b[39m, in \u001b[36mgetMapId\u001b[39m\u001b[34m(params)\u001b[39m\n\u001b[32m    745\u001b[39m queryParams = {\n\u001b[32m    746\u001b[39m     \u001b[33m'\u001b[39m\u001b[33mfields\u001b[39m\u001b[33m'\u001b[39m: \u001b[33m'\u001b[39m\u001b[33mname\u001b[39m\u001b[33m'\u001b[39m,\n\u001b[32m    747\u001b[39m     \u001b[33m'\u001b[39m\u001b[33mbody\u001b[39m\u001b[33m'\u001b[39m: request,\n\u001b[32m    748\u001b[39m }\n\u001b[32m    749\u001b[39m _maybe_populate_workload_tag(queryParams)\n\u001b[32m--> \u001b[39m\u001b[32m750\u001b[39m result = \u001b[43m_execute_cloud_call\u001b[49m\u001b[43m(\u001b[49m\n\u001b[32m    751\u001b[39m \u001b[43m    \u001b[49m\u001b[43m_get_cloud_projects\u001b[49m\u001b[43m(\u001b[49m\u001b[43m)\u001b[49m\n\u001b[32m    752\u001b[39m \u001b[43m    \u001b[49m\u001b[43m.\u001b[49m\u001b[43mmaps\u001b[49m\u001b[43m(\u001b[49m\u001b[43m)\u001b[49m\n\u001b[32m    753\u001b[39m \u001b[43m    \u001b[49m\u001b[43m.\u001b[49m\u001b[43mcreate\u001b[49m\u001b[43m(\u001b[49m\u001b[43mparent\u001b[49m\u001b[43m=\u001b[49m\u001b[43m_get_projects_path\u001b[49m\u001b[43m(\u001b[49m\u001b[43m)\u001b[49m\u001b[43m,\u001b[49m\u001b[43m \u001b[49m\u001b[43m*\u001b[49m\u001b[43m*\u001b[49m\u001b[43mqueryParams\u001b[49m\u001b[43m)\u001b[49m\n\u001b[32m    754\u001b[39m \u001b[43m\u001b[49m\u001b[43m)\u001b[49m\n\u001b[32m    755\u001b[39m map_name = result[\u001b[33m'\u001b[39m\u001b[33mname\u001b[39m\u001b[33m'\u001b[39m]\n\u001b[32m    756\u001b[39m url_format = \u001b[33m'\u001b[39m\u001b[38;5;132;01m%s\u001b[39;00m\u001b[33m/\u001b[39m\u001b[38;5;132;01m%s\u001b[39;00m\u001b[33m/\u001b[39m\u001b[38;5;132;01m%s\u001b[39;00m\u001b[33m/tiles/\u001b[39m\u001b[38;5;132;01m{z}\u001b[39;00m\u001b[33m/\u001b[39m\u001b[38;5;132;01m{x}\u001b[39;00m\u001b[33m/\u001b[39m\u001b[38;5;132;01m{y}\u001b[39;00m\u001b[33m'\u001b[39m % (\n\u001b[32m    757\u001b[39m     _tile_base_url, _cloud_api_utils.VERSION, map_name)\n",
      "\u001b[36mFile \u001b[39m\u001b[32mc:\\Users\\ssarf\\miniconda3\\envs\\gee\\Lib\\site-packages\\ee\\data.py:408\u001b[39m, in \u001b[36m_execute_cloud_call\u001b[39m\u001b[34m(call, num_retries)\u001b[39m\n\u001b[32m    406\u001b[39m num_retries = _max_retries \u001b[38;5;28;01mif\u001b[39;00m num_retries \u001b[38;5;129;01mis\u001b[39;00m \u001b[38;5;28;01mNone\u001b[39;00m \u001b[38;5;28;01melse\u001b[39;00m num_retries\n\u001b[32m    407\u001b[39m \u001b[38;5;28;01mtry\u001b[39;00m:\n\u001b[32m--> \u001b[39m\u001b[32m408\u001b[39m   \u001b[38;5;28;01mreturn\u001b[39;00m \u001b[43mcall\u001b[49m\u001b[43m.\u001b[49m\u001b[43mexecute\u001b[49m\u001b[43m(\u001b[49m\u001b[43mnum_retries\u001b[49m\u001b[43m=\u001b[49m\u001b[43mnum_retries\u001b[49m\u001b[43m)\u001b[49m\n\u001b[32m    409\u001b[39m \u001b[38;5;28;01mexcept\u001b[39;00m googleapiclient.errors.HttpError \u001b[38;5;28;01mas\u001b[39;00m e:\n\u001b[32m    410\u001b[39m   \u001b[38;5;28;01mraise\u001b[39;00m _translate_cloud_exception(e)\n",
      "\u001b[36mFile \u001b[39m\u001b[32mc:\\Users\\ssarf\\miniconda3\\envs\\gee\\Lib\\site-packages\\googleapiclient\\_helpers.py:130\u001b[39m, in \u001b[36mpositional.<locals>.positional_decorator.<locals>.positional_wrapper\u001b[39m\u001b[34m(*args, **kwargs)\u001b[39m\n\u001b[32m    128\u001b[39m     \u001b[38;5;28;01melif\u001b[39;00m positional_parameters_enforcement == POSITIONAL_WARNING:\n\u001b[32m    129\u001b[39m         logger.warning(message)\n\u001b[32m--> \u001b[39m\u001b[32m130\u001b[39m \u001b[38;5;28;01mreturn\u001b[39;00m \u001b[43mwrapped\u001b[49m\u001b[43m(\u001b[49m\u001b[43m*\u001b[49m\u001b[43margs\u001b[49m\u001b[43m,\u001b[49m\u001b[43m \u001b[49m\u001b[43m*\u001b[49m\u001b[43m*\u001b[49m\u001b[43mkwargs\u001b[49m\u001b[43m)\u001b[49m\n",
      "\u001b[36mFile \u001b[39m\u001b[32mc:\\Users\\ssarf\\miniconda3\\envs\\gee\\Lib\\site-packages\\googleapiclient\\http.py:923\u001b[39m, in \u001b[36mHttpRequest.execute\u001b[39m\u001b[34m(self, http, num_retries)\u001b[39m\n\u001b[32m    920\u001b[39m     \u001b[38;5;28mself\u001b[39m.headers[\u001b[33m\"\u001b[39m\u001b[33mcontent-length\u001b[39m\u001b[33m\"\u001b[39m] = \u001b[38;5;28mstr\u001b[39m(\u001b[38;5;28mlen\u001b[39m(\u001b[38;5;28mself\u001b[39m.body))\n\u001b[32m    922\u001b[39m \u001b[38;5;66;03m# Handle retries for server-side errors.\u001b[39;00m\n\u001b[32m--> \u001b[39m\u001b[32m923\u001b[39m resp, content = \u001b[43m_retry_request\u001b[49m\u001b[43m(\u001b[49m\n\u001b[32m    924\u001b[39m \u001b[43m    \u001b[49m\u001b[43mhttp\u001b[49m\u001b[43m,\u001b[49m\n\u001b[32m    925\u001b[39m \u001b[43m    \u001b[49m\u001b[43mnum_retries\u001b[49m\u001b[43m,\u001b[49m\n\u001b[32m    926\u001b[39m \u001b[43m    \u001b[49m\u001b[33;43m\"\u001b[39;49m\u001b[33;43mrequest\u001b[39;49m\u001b[33;43m\"\u001b[39;49m\u001b[43m,\u001b[49m\n\u001b[32m    927\u001b[39m \u001b[43m    \u001b[49m\u001b[38;5;28;43mself\u001b[39;49m\u001b[43m.\u001b[49m\u001b[43m_sleep\u001b[49m\u001b[43m,\u001b[49m\n\u001b[32m    928\u001b[39m \u001b[43m    \u001b[49m\u001b[38;5;28;43mself\u001b[39;49m\u001b[43m.\u001b[49m\u001b[43m_rand\u001b[49m\u001b[43m,\u001b[49m\n\u001b[32m    929\u001b[39m \u001b[43m    \u001b[49m\u001b[38;5;28;43mstr\u001b[39;49m\u001b[43m(\u001b[49m\u001b[38;5;28;43mself\u001b[39;49m\u001b[43m.\u001b[49m\u001b[43muri\u001b[49m\u001b[43m)\u001b[49m\u001b[43m,\u001b[49m\n\u001b[32m    930\u001b[39m \u001b[43m    \u001b[49m\u001b[43mmethod\u001b[49m\u001b[43m=\u001b[49m\u001b[38;5;28;43mstr\u001b[39;49m\u001b[43m(\u001b[49m\u001b[38;5;28;43mself\u001b[39;49m\u001b[43m.\u001b[49m\u001b[43mmethod\u001b[49m\u001b[43m)\u001b[49m\u001b[43m,\u001b[49m\n\u001b[32m    931\u001b[39m \u001b[43m    \u001b[49m\u001b[43mbody\u001b[49m\u001b[43m=\u001b[49m\u001b[38;5;28;43mself\u001b[39;49m\u001b[43m.\u001b[49m\u001b[43mbody\u001b[49m\u001b[43m,\u001b[49m\n\u001b[32m    932\u001b[39m \u001b[43m    \u001b[49m\u001b[43mheaders\u001b[49m\u001b[43m=\u001b[49m\u001b[38;5;28;43mself\u001b[39;49m\u001b[43m.\u001b[49m\u001b[43mheaders\u001b[49m\u001b[43m,\u001b[49m\n\u001b[32m    933\u001b[39m \u001b[43m\u001b[49m\u001b[43m)\u001b[49m\n\u001b[32m    935\u001b[39m \u001b[38;5;28;01mfor\u001b[39;00m callback \u001b[38;5;129;01min\u001b[39;00m \u001b[38;5;28mself\u001b[39m.response_callbacks:\n\u001b[32m    936\u001b[39m     callback(resp)\n",
      "\u001b[36mFile \u001b[39m\u001b[32mc:\\Users\\ssarf\\miniconda3\\envs\\gee\\Lib\\site-packages\\googleapiclient\\http.py:191\u001b[39m, in \u001b[36m_retry_request\u001b[39m\u001b[34m(http, num_retries, req_type, sleep, rand, uri, method, *args, **kwargs)\u001b[39m\n\u001b[32m    189\u001b[39m \u001b[38;5;28;01mtry\u001b[39;00m:\n\u001b[32m    190\u001b[39m     exception = \u001b[38;5;28;01mNone\u001b[39;00m\n\u001b[32m--> \u001b[39m\u001b[32m191\u001b[39m     resp, content = \u001b[43mhttp\u001b[49m\u001b[43m.\u001b[49m\u001b[43mrequest\u001b[49m\u001b[43m(\u001b[49m\u001b[43muri\u001b[49m\u001b[43m,\u001b[49m\u001b[43m \u001b[49m\u001b[43mmethod\u001b[49m\u001b[43m,\u001b[49m\u001b[43m \u001b[49m\u001b[43m*\u001b[49m\u001b[43margs\u001b[49m\u001b[43m,\u001b[49m\u001b[43m \u001b[49m\u001b[43m*\u001b[49m\u001b[43m*\u001b[49m\u001b[43mkwargs\u001b[49m\u001b[43m)\u001b[49m\n\u001b[32m    192\u001b[39m \u001b[38;5;66;03m# Retry on SSL errors and socket timeout errors.\u001b[39;00m\n\u001b[32m    193\u001b[39m \u001b[38;5;28;01mexcept\u001b[39;00m _ssl_SSLError \u001b[38;5;28;01mas\u001b[39;00m ssl_error:\n",
      "\u001b[36mFile \u001b[39m\u001b[32mc:\\Users\\ssarf\\miniconda3\\envs\\gee\\Lib\\site-packages\\google_auth_httplib2.py:245\u001b[39m, in \u001b[36mAuthorizedHttp.request\u001b[39m\u001b[34m(self, uri, method, body, headers, redirections, connection_type, **kwargs)\u001b[39m\n\u001b[32m    233\u001b[39m \u001b[38;5;28;01mif\u001b[39;00m (\n\u001b[32m    234\u001b[39m     response.status \u001b[38;5;129;01min\u001b[39;00m \u001b[38;5;28mself\u001b[39m._refresh_status_codes\n\u001b[32m    235\u001b[39m     \u001b[38;5;129;01mand\u001b[39;00m _credential_refresh_attempt < \u001b[38;5;28mself\u001b[39m._max_refresh_attempts\n\u001b[32m    236\u001b[39m ):\n\u001b[32m    238\u001b[39m     _LOGGER.info(\n\u001b[32m    239\u001b[39m         \u001b[33m\"\u001b[39m\u001b[33mRefreshing credentials due to a \u001b[39m\u001b[38;5;132;01m%s\u001b[39;00m\u001b[33m response. Attempt \u001b[39m\u001b[38;5;132;01m%s\u001b[39;00m\u001b[33m/\u001b[39m\u001b[38;5;132;01m%s\u001b[39;00m\u001b[33m.\u001b[39m\u001b[33m\"\u001b[39m,\n\u001b[32m    240\u001b[39m         response.status,\n\u001b[32m    241\u001b[39m         _credential_refresh_attempt + \u001b[32m1\u001b[39m,\n\u001b[32m    242\u001b[39m         \u001b[38;5;28mself\u001b[39m._max_refresh_attempts,\n\u001b[32m    243\u001b[39m     )\n\u001b[32m--> \u001b[39m\u001b[32m245\u001b[39m     \u001b[38;5;28;43mself\u001b[39;49m\u001b[43m.\u001b[49m\u001b[43mcredentials\u001b[49m\u001b[43m.\u001b[49m\u001b[43mrefresh\u001b[49m\u001b[43m(\u001b[49m\u001b[38;5;28;43mself\u001b[39;49m\u001b[43m.\u001b[49m\u001b[43m_request\u001b[49m\u001b[43m)\u001b[49m\n\u001b[32m    247\u001b[39m     \u001b[38;5;66;03m# Restore the body's stream position if needed.\u001b[39;00m\n\u001b[32m    248\u001b[39m     \u001b[38;5;28;01mif\u001b[39;00m body_stream_position \u001b[38;5;129;01mis\u001b[39;00m \u001b[38;5;129;01mnot\u001b[39;00m \u001b[38;5;28;01mNone\u001b[39;00m:\n",
      "\u001b[36mFile \u001b[39m\u001b[32mc:\\Users\\ssarf\\miniconda3\\envs\\gee\\Lib\\site-packages\\google\\oauth2\\credentials.py:409\u001b[39m, in \u001b[36mCredentials.refresh\u001b[39m\u001b[34m(self, request)\u001b[39m\n\u001b[32m    391\u001b[39m \u001b[38;5;28;01mif\u001b[39;00m (\n\u001b[32m    392\u001b[39m     \u001b[38;5;28mself\u001b[39m._refresh_token \u001b[38;5;129;01mis\u001b[39;00m \u001b[38;5;28;01mNone\u001b[39;00m\n\u001b[32m    393\u001b[39m     \u001b[38;5;129;01mor\u001b[39;00m \u001b[38;5;28mself\u001b[39m._token_uri \u001b[38;5;129;01mis\u001b[39;00m \u001b[38;5;28;01mNone\u001b[39;00m\n\u001b[32m    394\u001b[39m     \u001b[38;5;129;01mor\u001b[39;00m \u001b[38;5;28mself\u001b[39m._client_id \u001b[38;5;129;01mis\u001b[39;00m \u001b[38;5;28;01mNone\u001b[39;00m\n\u001b[32m    395\u001b[39m     \u001b[38;5;129;01mor\u001b[39;00m \u001b[38;5;28mself\u001b[39m._client_secret \u001b[38;5;129;01mis\u001b[39;00m \u001b[38;5;28;01mNone\u001b[39;00m\n\u001b[32m    396\u001b[39m ):\n\u001b[32m    397\u001b[39m     \u001b[38;5;28;01mraise\u001b[39;00m exceptions.RefreshError(\n\u001b[32m    398\u001b[39m         \u001b[33m\"\u001b[39m\u001b[33mThe credentials do not contain the necessary fields need to \u001b[39m\u001b[33m\"\u001b[39m\n\u001b[32m    399\u001b[39m         \u001b[33m\"\u001b[39m\u001b[33mrefresh the access token. You must specify refresh_token, \u001b[39m\u001b[33m\"\u001b[39m\n\u001b[32m    400\u001b[39m         \u001b[33m\"\u001b[39m\u001b[33mtoken_uri, client_id, and client_secret.\u001b[39m\u001b[33m\"\u001b[39m\n\u001b[32m    401\u001b[39m     )\n\u001b[32m    403\u001b[39m (\n\u001b[32m    404\u001b[39m     access_token,\n\u001b[32m    405\u001b[39m     refresh_token,\n\u001b[32m    406\u001b[39m     expiry,\n\u001b[32m    407\u001b[39m     grant_response,\n\u001b[32m    408\u001b[39m     rapt_token,\n\u001b[32m--> \u001b[39m\u001b[32m409\u001b[39m ) = \u001b[43mreauth\u001b[49m\u001b[43m.\u001b[49m\u001b[43mrefresh_grant\u001b[49m\u001b[43m(\u001b[49m\n\u001b[32m    410\u001b[39m \u001b[43m    \u001b[49m\u001b[43mrequest\u001b[49m\u001b[43m,\u001b[49m\n\u001b[32m    411\u001b[39m \u001b[43m    \u001b[49m\u001b[38;5;28;43mself\u001b[39;49m\u001b[43m.\u001b[49m\u001b[43m_token_uri\u001b[49m\u001b[43m,\u001b[49m\n\u001b[32m    412\u001b[39m \u001b[43m    \u001b[49m\u001b[38;5;28;43mself\u001b[39;49m\u001b[43m.\u001b[49m\u001b[43m_refresh_token\u001b[49m\u001b[43m,\u001b[49m\n\u001b[32m    413\u001b[39m \u001b[43m    \u001b[49m\u001b[38;5;28;43mself\u001b[39;49m\u001b[43m.\u001b[49m\u001b[43m_client_id\u001b[49m\u001b[43m,\u001b[49m\n\u001b[32m    414\u001b[39m \u001b[43m    \u001b[49m\u001b[38;5;28;43mself\u001b[39;49m\u001b[43m.\u001b[49m\u001b[43m_client_secret\u001b[49m\u001b[43m,\u001b[49m\n\u001b[32m    415\u001b[39m \u001b[43m    \u001b[49m\u001b[43mscopes\u001b[49m\u001b[43m=\u001b[49m\u001b[43mscopes\u001b[49m\u001b[43m,\u001b[49m\n\u001b[32m    416\u001b[39m \u001b[43m    \u001b[49m\u001b[43mrapt_token\u001b[49m\u001b[43m=\u001b[49m\u001b[38;5;28;43mself\u001b[39;49m\u001b[43m.\u001b[49m\u001b[43m_rapt_token\u001b[49m\u001b[43m,\u001b[49m\n\u001b[32m    417\u001b[39m \u001b[43m    \u001b[49m\u001b[43menable_reauth_refresh\u001b[49m\u001b[43m=\u001b[49m\u001b[38;5;28;43mself\u001b[39;49m\u001b[43m.\u001b[49m\u001b[43m_enable_reauth_refresh\u001b[49m\u001b[43m,\u001b[49m\n\u001b[32m    418\u001b[39m \u001b[43m\u001b[49m\u001b[43m)\u001b[49m\n\u001b[32m    420\u001b[39m \u001b[38;5;28mself\u001b[39m.token = access_token\n\u001b[32m    421\u001b[39m \u001b[38;5;28mself\u001b[39m.expiry = expiry\n",
      "\u001b[36mFile \u001b[39m\u001b[32mc:\\Users\\ssarf\\miniconda3\\envs\\gee\\Lib\\site-packages\\google\\oauth2\\reauth.py:366\u001b[39m, in \u001b[36mrefresh_grant\u001b[39m\u001b[34m(request, token_uri, refresh_token, client_id, client_secret, scopes, rapt_token, enable_reauth_refresh)\u001b[39m\n\u001b[32m    357\u001b[39m     (\n\u001b[32m    358\u001b[39m         response_status_ok,\n\u001b[32m    359\u001b[39m         response_data,\n\u001b[32m   (...)\u001b[39m\u001b[32m    362\u001b[39m         request, token_uri, body, headers=metrics_header\n\u001b[32m    363\u001b[39m     )\n\u001b[32m    365\u001b[39m \u001b[38;5;28;01mif\u001b[39;00m \u001b[38;5;129;01mnot\u001b[39;00m response_status_ok:\n\u001b[32m--> \u001b[39m\u001b[32m366\u001b[39m     \u001b[43m_client\u001b[49m\u001b[43m.\u001b[49m\u001b[43m_handle_error_response\u001b[49m\u001b[43m(\u001b[49m\u001b[43mresponse_data\u001b[49m\u001b[43m,\u001b[49m\u001b[43m \u001b[49m\u001b[43mretryable_error\u001b[49m\u001b[43m)\u001b[49m\n\u001b[32m    367\u001b[39m \u001b[38;5;28;01mreturn\u001b[39;00m _client._handle_refresh_grant_response(response_data, refresh_token) + (\n\u001b[32m    368\u001b[39m     rapt_token,\n\u001b[32m    369\u001b[39m )\n",
      "\u001b[36mFile \u001b[39m\u001b[32mc:\\Users\\ssarf\\miniconda3\\envs\\gee\\Lib\\site-packages\\google\\oauth2\\_client.py:69\u001b[39m, in \u001b[36m_handle_error_response\u001b[39m\u001b[34m(response_data, retryable_error)\u001b[39m\n\u001b[32m     66\u001b[39m \u001b[38;5;28;01mexcept\u001b[39;00m (\u001b[38;5;167;01mKeyError\u001b[39;00m, \u001b[38;5;167;01mValueError\u001b[39;00m):\n\u001b[32m     67\u001b[39m     error_details = json.dumps(response_data)\n\u001b[32m---> \u001b[39m\u001b[32m69\u001b[39m \u001b[38;5;28;01mraise\u001b[39;00m exceptions.RefreshError(\n\u001b[32m     70\u001b[39m     error_details, response_data, retryable=retryable_error\n\u001b[32m     71\u001b[39m )\n",
      "\u001b[31mRefreshError\u001b[39m: ('invalid_grant: Token has been expired or revoked.', {'error': 'invalid_grant', 'error_description': 'Token has been expired or revoked.'})"
     ]
    }
   ],
   "source": [
    "Map = geemap.Map(draw_ctrl=False, data_ctrl=False, measure_ctrl=False, zoom_ctrl=False, fullscreen_ctrl=True)\n",
    "World_LandCover= ee.ImageCollection('ESA/WorldCover/v200').first() #call the named dataset from google earth engine with band name Map\n",
    "url = \"https://mt1.google.com/vt/lyrs=s&x={x}&y={y}&z={z}\" # Add Google satellite imagery\n",
    "\n",
    "#filter the dataset to Ghana to get the land cover of Ghana\n",
    "World_boundaries=ee.FeatureCollection('FAO/GAUL/2015/level0')\n",
    "ghana=World_boundaries.filter(ee.Filter.eq('ADM0_NAME', 'Ghana'))\n",
    "vis_poly={\n",
    "    'color': 'red',\n",
    "    'fillColor': '#ff0000',\n",
    "    'opacity': 0.5,\n",
    "    'width': 2,\n",
    "}\n",
    "\n",
    "Legend_dic={\n",
    "    \"10\tTree cover\":\"#006400\",\n",
    "    \"20\tShrubland\":\"#ffbb22\",\n",
    "    \"30\tGrassland\":\"#ffff4c\",\n",
    "    \"40\tCropland\":\"#f096ff\",\n",
    "    \"50\tBuilt-up\":\"#fa0000\",\n",
    "    \"60\tBare / sparse vegetation\":\"#b4b4b4\",\n",
    "    \"80\tPermanent water bodies\":\"#0064c8\",\n",
    "    \"90\tHerbaceous wetland\":\"#0096a0\",\n",
    "    \"95\tMangroves\":\"#00cf75\",\n",
    "    \"100 Moss and lichen\":\"#fae6a0\",\n",
    "\n",
    "}\n",
    "landcover=World_LandCover.clip(ghana.geometry())\n",
    "\n",
    "\n",
    "visualization = {\n",
    "    \"bands\": ['Map'],\n",
    "    \n",
    "}\n",
    "# Add layers for visualization\n",
    "Map.add_tile_layer(url, name=\"Google Satellite\", attribution=\"Google\")\n",
    "Map.addLayer(landcover, visualization, 'Land Cover', opacity=0.5)\n",
    "Map.add_legend(title=\"NLCD Land Cover Classification\", legend_dict=Legend_dic, position='bottomright')\n",
    "Map.centerObject(landcover, 7)\n",
    "Map.add_text(text='Land Cover of Ghana', position='topleft', fontcolor=\"#black\")\n",
    "Map.add_text(text='Designed_By:SMS', fontsize=10, position='bottomleft')\n",
    "Map.add_layer_control(position=\"topright\")\n",
    "# Map.to_html(\n",
    "#     \"GhanaLCD.html\",\n",
    "#     title=\"Ghana National Land Cover\",\n",
    "#     width=\"100%\",\n",
    "#     height=\"100%\")\n",
    "Map\n",
    "\n"
   ]
  },
  {
   "cell_type": "code",
   "execution_count": 4,
   "id": "d8c620e9",
   "metadata": {},
   "outputs": [
    {
     "data": {
      "text/html": [
       "\n",
       "            <style>\n",
       "                .geemap-dark {\n",
       "                    --jp-widgets-color: white;\n",
       "                    --jp-widgets-label-color: white;\n",
       "                    --jp-ui-font-color1: white;\n",
       "                    --jp-layout-color2: #454545;\n",
       "                    background-color: #383838;\n",
       "                }\n",
       "\n",
       "                .geemap-dark .jupyter-button {\n",
       "                    --jp-layout-color3: #383838;\n",
       "                }\n",
       "\n",
       "                .geemap-colab {\n",
       "                    background-color: var(--colab-primary-surface-color, white);\n",
       "                }\n",
       "\n",
       "                .geemap-colab .jupyter-button {\n",
       "                    --jp-layout-color3: var(--colab-primary-surface-color, white);\n",
       "                }\n",
       "            </style>\n",
       "            "
      ],
      "text/plain": [
       "<IPython.core.display.HTML object>"
      ]
     },
     "metadata": {},
     "output_type": "display_data"
    },
    {
     "data": {
      "application/vnd.jupyter.widget-view+json": {
       "model_id": "e7ee20c2d20746f4b9c8147946320285",
       "version_major": 2,
       "version_minor": 0
      },
      "text/plain": [
       "Map(center=[54.98535499740582, -114.40511584284997], controls=(ScaleControl(options=['imperial', 'max_width', …"
      ]
     },
     "execution_count": 4,
     "metadata": {},
     "output_type": "execute_result"
    }
   ],
   "source": [
    "Map = geemap.Map(draw_ctrl=False, data_ctrl=False, measure_ctrl=False, zoom_ctrl=False, fullscreen_ctrl=False, toolbar_ctrl=False)\n",
    "World_LandCover= ee.ImageCollection('ESA/WorldCover/v200').first() #call the named dataset from google earth engine with band name Map\n",
    "\n",
    "\n",
    "visualization = {\n",
    "    \"bands\": ['Map'],\n",
    "    \n",
    "}\n",
    "#filter the dataset to canada_alberta to get the land cover of Ghana\n",
    "World_boundaries=ee.FeatureCollection(\"FAO/GAUL_SIMPLIFIED_500m/2015/level1\")\n",
    "Alberta=World_boundaries.filter(ee.Filter.eq('ADM1_NAME', 'Alberta'))\n",
    "vis_poly={\n",
    "    \"color\": \"0000ffff\", \"width\": 2, \"lineType\": \"solid\", \"fillColor\": \"FF000080\"\n",
    "}\n",
    "\n",
    "Legend_dic={\n",
    "    \"10\tTree cover\":\"#006400\",\n",
    "    \"20\tShrubland\":\"#ffbb22\",\n",
    "    \"30\tGrassland\":\"#ffff4c\",\n",
    "    \"40\tCropland\":\"#f096ff\",\n",
    "    \"50\tBuilt-up\":\"#fa0000\",\n",
    "    \"60\tBare / sparse vegetation\":\"#b4b4b4\",\n",
    "    \"70 Snow and ice\":\"#f0f0f0\",\n",
    "    \"80\tPermanent water bodies\":\"#0064c8\",\n",
    "    \"90\tHerbaceous wetland\":\"#0096a0\",\n",
    "    \"95\tMangroves\":\"#00cf75\",\n",
    "    \"100 Moss and lichen\":\"#fae6a0\",\n",
    "\n",
    "}\n",
    "ABLCD=World_LandCover.clip(Alberta.geometry())\n",
    "Canada_Alberta=geemap.ee_tile_layer(ABLCD, {}, name=\"Alberta\", opacity=0.5)\n",
    "Map.addLayer(ABLCD, visualization, 'Land Cover Alberta')\n",
    "Map.add_legend(title=\"NLCD Land Cover Classification\", legend_dict=Legend_dic, position='bottomright')\n",
    "Map.centerObject(ABLCD, 8)\n",
    "Map.add_text(text='Land Cover of Canada-Alberta', position='topleft', fontcolor=\"#black\")\n",
    "Map.add_text(text='Designed_By:SMS', fontsize=10, position='bottomleft')\n",
    "Map.add_layer_control(position=\"topright\")\n",
    "Map\n"
   ]
  },
  {
   "cell_type": "code",
   "execution_count": null,
   "id": "2e029777",
   "metadata": {},
   "outputs": [],
   "source": [
    "#first get(stream) the datasets(image collections) form 2001 to 2024 for the world landcover datasets\n",
    "# this is done by filtering the datasets for the specified data \n",
    "# get the featurecollections for administrative bounday with the attributes containing the dictionary key ADMO1 for alberta.\n",
    "# create the bounds by just extracting your required area of interest in this case Alberta   "
   ]
  },
  {
   "cell_type": "code",
   "execution_count": 36,
   "id": "63f68a3d",
   "metadata": {},
   "outputs": [
    {
     "data": {
      "text/html": [
       "\n",
       "            <style>\n",
       "                .geemap-dark {\n",
       "                    --jp-widgets-color: white;\n",
       "                    --jp-widgets-label-color: white;\n",
       "                    --jp-ui-font-color1: white;\n",
       "                    --jp-layout-color2: #454545;\n",
       "                    background-color: #383838;\n",
       "                }\n",
       "\n",
       "                .geemap-dark .jupyter-button {\n",
       "                    --jp-layout-color3: #383838;\n",
       "                }\n",
       "\n",
       "                .geemap-colab {\n",
       "                    background-color: var(--colab-primary-surface-color, white);\n",
       "                }\n",
       "\n",
       "                .geemap-colab .jupyter-button {\n",
       "                    --jp-layout-color3: var(--colab-primary-surface-color, white);\n",
       "                }\n",
       "            </style>\n",
       "            "
      ],
      "text/plain": [
       "<IPython.core.display.HTML object>"
      ]
     },
     "metadata": {},
     "output_type": "display_data"
    }
   ],
   "source": [
    "m = geemap.Map(center=[54.0, -115.0],zoom=7, draw_ctrl=False, data_ctrl=False, measure_ctrl=False, zoom_ctrl=False, fullscreen_ctrl=False, toolbar_ctrl=False)\n",
    "Landcover_series= ee.ImageCollection(\"MODIS/061/MCD12Q1\").select(\"LC_Type1\")\n",
    "vis_params = { \"min\": 1.0,\n",
    "  \"max\": 17.0,\n",
    "  \"palette\": [\n",
    "    '05450a', '086a10', '54a708', '78d203', '009900', 'c6b044', 'dcd159',\n",
    "    'dade48', 'fbff13', 'b6ff05', '27ff87', 'c24f44', 'a5a5a5', 'ff6d4c',\n",
    "    '69fff8', 'f9ffa4', '1c0dff',\n",
    "  ],\n",
    "  }\n",
    "# years = Landcover_series.getInfo()\n",
    "# years\n"
   ]
  },
  {
   "cell_type": "code",
   "execution_count": 98,
   "id": "b9c8a5d6",
   "metadata": {},
   "outputs": [
    {
     "data": {
      "text/html": [
       "\n",
       "            <style>\n",
       "                .geemap-dark {\n",
       "                    --jp-widgets-color: white;\n",
       "                    --jp-widgets-label-color: white;\n",
       "                    --jp-ui-font-color1: white;\n",
       "                    --jp-layout-color2: #454545;\n",
       "                    background-color: #383838;\n",
       "                }\n",
       "\n",
       "                .geemap-dark .jupyter-button {\n",
       "                    --jp-layout-color3: #383838;\n",
       "                }\n",
       "\n",
       "                .geemap-colab {\n",
       "                    background-color: var(--colab-primary-surface-color, white);\n",
       "                }\n",
       "\n",
       "                .geemap-colab .jupyter-button {\n",
       "                    --jp-layout-color3: var(--colab-primary-surface-color, white);\n",
       "                }\n",
       "            </style>\n",
       "            "
      ],
      "text/plain": [
       "<IPython.core.display.HTML object>"
      ]
     },
     "metadata": {},
     "output_type": "display_data"
    }
   ],
   "source": [
    "# second_collection=ee.ImageCollection(Landcover_series.toList(13).get(12))"
   ]
  },
  {
   "cell_type": "code",
   "execution_count": 27,
   "id": "75b66e4f",
   "metadata": {},
   "outputs": [
    {
     "data": {
      "text/html": [
       "\n",
       "            <style>\n",
       "                .geemap-dark {\n",
       "                    --jp-widgets-color: white;\n",
       "                    --jp-widgets-label-color: white;\n",
       "                    --jp-ui-font-color1: white;\n",
       "                    --jp-layout-color2: #454545;\n",
       "                    background-color: #383838;\n",
       "                }\n",
       "\n",
       "                .geemap-dark .jupyter-button {\n",
       "                    --jp-layout-color3: #383838;\n",
       "                }\n",
       "\n",
       "                .geemap-colab {\n",
       "                    background-color: var(--colab-primary-surface-color, white);\n",
       "                }\n",
       "\n",
       "                .geemap-colab .jupyter-button {\n",
       "                    --jp-layout-color3: var(--colab-primary-surface-color, white);\n",
       "                }\n",
       "            </style>\n",
       "            "
      ],
      "text/plain": [
       "<IPython.core.display.HTML object>"
      ]
     },
     "metadata": {},
     "output_type": "display_data"
    }
   ],
   "source": [
    "selected_imageCollecn=Landcover_series.first()"
   ]
  },
  {
   "cell_type": "code",
   "execution_count": 28,
   "id": "593b4bc7",
   "metadata": {},
   "outputs": [
    {
     "data": {
      "text/html": [
       "\n",
       "            <style>\n",
       "                .geemap-dark {\n",
       "                    --jp-widgets-color: white;\n",
       "                    --jp-widgets-label-color: white;\n",
       "                    --jp-ui-font-color1: white;\n",
       "                    --jp-layout-color2: #454545;\n",
       "                    background-color: #383838;\n",
       "                }\n",
       "\n",
       "                .geemap-dark .jupyter-button {\n",
       "                    --jp-layout-color3: #383838;\n",
       "                }\n",
       "\n",
       "                .geemap-colab {\n",
       "                    background-color: var(--colab-primary-surface-color, white);\n",
       "                }\n",
       "\n",
       "                .geemap-colab .jupyter-button {\n",
       "                    --jp-layout-color3: var(--colab-primary-surface-color, white);\n",
       "                }\n",
       "            </style>\n",
       "            "
      ],
      "text/plain": [
       "<IPython.core.display.HTML object>"
      ]
     },
     "metadata": {},
     "output_type": "display_data"
    }
   ],
   "source": [
    "World_boundaries=ee.FeatureCollection(\"FAO/GAUL_SIMPLIFIED_500m/2015/level1\")\n",
    "Alberta=World_boundaries.filter(ee.Filter.eq('ADM1_NAME', 'Alberta'))\n",
    "vis_poly={\n",
    "    \"color\": \"0000ffff\", \"width\": 2, \"lineType\": \"solid\", \"fillColor\": \"FF000080\"\n",
    "}\n",
    "def Clip_singel_image(selected_imageCollecn):\n",
    "    return selected_imageCollecn.clip(Alberta.geometry())\n",
    "\n",
    "\n",
    "\n"
   ]
  },
  {
   "cell_type": "code",
   "execution_count": 29,
   "id": "068089d1",
   "metadata": {},
   "outputs": [
    {
     "data": {
      "text/html": [
       "\n",
       "            <style>\n",
       "                .geemap-dark {\n",
       "                    --jp-widgets-color: white;\n",
       "                    --jp-widgets-label-color: white;\n",
       "                    --jp-ui-font-color1: white;\n",
       "                    --jp-layout-color2: #454545;\n",
       "                    background-color: #383838;\n",
       "                }\n",
       "\n",
       "                .geemap-dark .jupyter-button {\n",
       "                    --jp-layout-color3: #383838;\n",
       "                }\n",
       "\n",
       "                .geemap-colab {\n",
       "                    background-color: var(--colab-primary-surface-color, white);\n",
       "                }\n",
       "\n",
       "                .geemap-colab .jupyter-button {\n",
       "                    --jp-layout-color3: var(--colab-primary-surface-color, white);\n",
       "                }\n",
       "            </style>\n",
       "            "
      ],
      "text/plain": [
       "<IPython.core.display.HTML object>"
      ]
     },
     "metadata": {},
     "output_type": "display_data"
    }
   ],
   "source": [
    "select_all_collections=Landcover_series.map(Clip_singel_image)"
   ]
  },
  {
   "cell_type": "code",
   "execution_count": 9,
   "id": "10a88729",
   "metadata": {},
   "outputs": [
    {
     "data": {
      "text/html": [
       "\n",
       "            <style>\n",
       "                .geemap-dark {\n",
       "                    --jp-widgets-color: white;\n",
       "                    --jp-widgets-label-color: white;\n",
       "                    --jp-ui-font-color1: white;\n",
       "                    --jp-layout-color2: #454545;\n",
       "                    background-color: #383838;\n",
       "                }\n",
       "\n",
       "                .geemap-dark .jupyter-button {\n",
       "                    --jp-layout-color3: #383838;\n",
       "                }\n",
       "\n",
       "                .geemap-colab {\n",
       "                    background-color: var(--colab-primary-surface-color, white);\n",
       "                }\n",
       "\n",
       "                .geemap-colab .jupyter-button {\n",
       "                    --jp-layout-color3: var(--colab-primary-surface-color, white);\n",
       "                }\n",
       "            </style>\n",
       "            "
      ],
      "text/plain": [
       "<IPython.core.display.HTML object>"
      ]
     },
     "metadata": {},
     "output_type": "display_data"
    }
   ],
   "source": [
    "years = select_all_collections.get('system:index').getInfo()\n",
    "years"
   ]
  },
  {
   "cell_type": "code",
   "execution_count": 11,
   "id": "76add9cd",
   "metadata": {},
   "outputs": [
    {
     "data": {
      "text/html": [
       "\n",
       "            <style>\n",
       "                .geemap-dark {\n",
       "                    --jp-widgets-color: white;\n",
       "                    --jp-widgets-label-color: white;\n",
       "                    --jp-ui-font-color1: white;\n",
       "                    --jp-layout-color2: #454545;\n",
       "                    background-color: #383838;\n",
       "                }\n",
       "\n",
       "                .geemap-dark .jupyter-button {\n",
       "                    --jp-layout-color3: #383838;\n",
       "                }\n",
       "\n",
       "                .geemap-colab {\n",
       "                    background-color: var(--colab-primary-surface-color, white);\n",
       "                }\n",
       "\n",
       "                .geemap-colab .jupyter-button {\n",
       "                    --jp-layout-color3: var(--colab-primary-surface-color, white);\n",
       "                }\n",
       "            </style>\n",
       "            "
      ],
      "text/plain": [
       "<IPython.core.display.HTML object>"
      ]
     },
     "metadata": {},
     "output_type": "display_data"
    }
   ],
   "source": [
    "legend_dict = {\n",
    "    \"1 Evergreen Needleleaf Forests\": \"#05450a\",\n",
    "    \"2 Evergreen Broadleaf Forests\": \"#086a10\",\n",
    "    \"3 Deciduous Needleleaf Forests\": \"#54a708\",\n",
    "    \"4 Deciduous Broadleaf Forests\": \"#78d203\",\n",
    "    \"5 Mixed Forests\": \"#009900\",\n",
    "    \"6 Closed Shrublands\": \"#c6b044\",\n",
    "    \"7 Open Shrublands\": \"#dcd159\",\n",
    "    \"8 Woody Savannas\": \"#dade48\",\n",
    "    \"9 Savannas\": \"#fbff13\",\n",
    "    \"10 Grasslands\": \"#b6ff05\",\n",
    "    \"11 Permanent Wetlands\": \"#27ff87\",\n",
    "    \"12 Croplands\": \"#c24f44\",\n",
    "    \"13 Urban and Built-up Lands\": \"#a5a5a5\",\n",
    "    \"14 Cropland/Natural Vegetation Mosaics\": \"#ff6d4c\",\n",
    "    \"15 Permanent Snow and Ice\": \"#69fff8\",\n",
    "    \"16 Barren\": \"#f9ffa4\",\n",
    "    \"17 Water Bodies\": \"#1c0df\",\n",
    "    \n",
    "}"
   ]
  },
  {
   "cell_type": "code",
   "execution_count": 111,
   "id": "6d9b9e19",
   "metadata": {},
   "outputs": [
    {
     "data": {
      "text/html": [
       "\n",
       "            <style>\n",
       "                .geemap-dark {\n",
       "                    --jp-widgets-color: white;\n",
       "                    --jp-widgets-label-color: white;\n",
       "                    --jp-ui-font-color1: white;\n",
       "                    --jp-layout-color2: #454545;\n",
       "                    background-color: #383838;\n",
       "                }\n",
       "\n",
       "                .geemap-dark .jupyter-button {\n",
       "                    --jp-layout-color3: #383838;\n",
       "                }\n",
       "\n",
       "                .geemap-colab {\n",
       "                    background-color: var(--colab-primary-surface-color, white);\n",
       "                }\n",
       "\n",
       "                .geemap-colab .jupyter-button {\n",
       "                    --jp-layout-color3: var(--colab-primary-surface-color, white);\n",
       "                }\n",
       "            </style>\n",
       "            "
      ],
      "text/plain": [
       "<IPython.core.display.HTML object>"
      ]
     },
     "metadata": {},
     "output_type": "display_data"
    }
   ],
   "source": [
    "import os\n",
    "os.environ[\"MAPTILER_KEY\"]=\"hAU2ZKHm5SFXNGFxBhtX\""
   ]
  },
  {
   "cell_type": "code",
   "execution_count": 14,
   "id": "3aba384b",
   "metadata": {},
   "outputs": [
    {
     "data": {
      "text/html": [
       "\n",
       "            <style>\n",
       "                .geemap-dark {\n",
       "                    --jp-widgets-color: white;\n",
       "                    --jp-widgets-label-color: white;\n",
       "                    --jp-ui-font-color1: white;\n",
       "                    --jp-layout-color2: #454545;\n",
       "                    background-color: #383838;\n",
       "                }\n",
       "\n",
       "                .geemap-dark .jupyter-button {\n",
       "                    --jp-layout-color3: #383838;\n",
       "                }\n",
       "\n",
       "                .geemap-colab {\n",
       "                    background-color: var(--colab-primary-surface-color, white);\n",
       "                }\n",
       "\n",
       "                .geemap-colab .jupyter-button {\n",
       "                    --jp-layout-color3: var(--colab-primary-surface-color, white);\n",
       "                }\n",
       "            </style>\n",
       "            "
      ],
      "text/plain": [
       "<IPython.core.display.HTML object>"
      ]
     },
     "metadata": {},
     "output_type": "display_data"
    },
    {
     "data": {
      "application/vnd.jupyter.widget-view+json": {
       "model_id": "c0781be7c8d6437b8cfc9fa46decac4b",
       "version_major": 2,
       "version_minor": 0
      },
      "text/plain": [
       "Map(bottom=10820.0, center=[54.00776876193478, -114.99938964843751], controls=(WidgetControl(options=['positio…"
      ]
     },
     "execution_count": 14,
     "metadata": {},
     "output_type": "execute_result"
    }
   ],
   "source": [
    "m.ts_inspector(\n",
    "    left_ts=select_all_collections,\n",
    "    right_ts=select_all_collections,\n",
    "    left_names=years,\n",
    "    right_names=years,\n",
    "    left_vis=vis_params,\n",
    "    right_vis=vis_params,\n",
    "    legend_dict=legend_dict\n",
    "    \n",
    ")\n",
    "\n",
    "m.to_html(\n",
    "    \"AlbertaLC_series.html\",\n",
    "    title=\"Land Cover for Alberta from 2001 to 2023\",\n",
    "    width=\"100%\",\n",
    "    height=\"850px\",\n",
    "    \n",
    ")\n",
    "m"
   ]
  },
  {
   "cell_type": "code",
   "execution_count": 37,
   "id": "9fa44104",
   "metadata": {},
   "outputs": [
    {
     "data": {
      "text/html": [
       "\n",
       "            <style>\n",
       "                .geemap-dark {\n",
       "                    --jp-widgets-color: white;\n",
       "                    --jp-widgets-label-color: white;\n",
       "                    --jp-ui-font-color1: white;\n",
       "                    --jp-layout-color2: #454545;\n",
       "                    background-color: #383838;\n",
       "                }\n",
       "\n",
       "                .geemap-dark .jupyter-button {\n",
       "                    --jp-layout-color3: #383838;\n",
       "                }\n",
       "\n",
       "                .geemap-colab {\n",
       "                    background-color: var(--colab-primary-surface-color, white);\n",
       "                }\n",
       "\n",
       "                .geemap-colab .jupyter-button {\n",
       "                    --jp-layout-color3: var(--colab-primary-surface-color, white);\n",
       "                }\n",
       "            </style>\n",
       "            "
      ],
      "text/plain": [
       "<IPython.core.display.HTML object>"
      ]
     },
     "metadata": {},
     "output_type": "display_data"
    }
   ],
   "source": [
    "second_collection=ee.Image(Landcover_series.toList(13).get(12))"
   ]
  },
  {
   "cell_type": "code",
   "execution_count": null,
   "id": "d543b962",
   "metadata": {},
   "outputs": [],
   "source": []
  },
  {
   "cell_type": "code",
   "execution_count": 38,
   "id": "488fadad",
   "metadata": {},
   "outputs": [
    {
     "data": {
      "text/html": [
       "\n",
       "            <style>\n",
       "                .geemap-dark {\n",
       "                    --jp-widgets-color: white;\n",
       "                    --jp-widgets-label-color: white;\n",
       "                    --jp-ui-font-color1: white;\n",
       "                    --jp-layout-color2: #454545;\n",
       "                    background-color: #383838;\n",
       "                }\n",
       "\n",
       "                .geemap-dark .jupyter-button {\n",
       "                    --jp-layout-color3: #383838;\n",
       "                }\n",
       "\n",
       "                .geemap-colab {\n",
       "                    background-color: var(--colab-primary-surface-color, white);\n",
       "                }\n",
       "\n",
       "                .geemap-colab .jupyter-button {\n",
       "                    --jp-layout-color3: var(--colab-primary-surface-color, white);\n",
       "                }\n",
       "            </style>\n",
       "            "
      ],
      "text/plain": [
       "<IPython.core.display.HTML object>"
      ]
     },
     "metadata": {},
     "output_type": "display_data"
    },
    {
     "ename": "RefreshError",
     "evalue": "('invalid_grant: Token has been expired or revoked.', {'error': 'invalid_grant', 'error_description': 'Token has been expired or revoked.'})",
     "output_type": "error",
     "traceback": [
      "\u001b[31m---------------------------------------------------------------------------\u001b[39m",
      "\u001b[31mRefreshError\u001b[39m                              Traceback (most recent call last)",
      "\u001b[36mCell\u001b[39m\u001b[36m \u001b[39m\u001b[32mIn[38]\u001b[39m\u001b[32m, line 1\u001b[39m\n\u001b[32m----> \u001b[39m\u001b[32m1\u001b[39m projection = \u001b[43msecond_collection\u001b[49m\u001b[43m.\u001b[49m\u001b[43mprojection\u001b[49m\u001b[43m(\u001b[49m\u001b[43m)\u001b[49m\u001b[43m.\u001b[49m\u001b[43mgetInfo\u001b[49m\u001b[43m(\u001b[49m\u001b[43m)\u001b[49m\n\u001b[32m      2\u001b[39m projection\n",
      "\u001b[36mFile \u001b[39m\u001b[32mc:\\Users\\ssarf\\miniconda3\\envs\\gee\\Lib\\site-packages\\ee\\computedobject.py:107\u001b[39m, in \u001b[36mComputedObject.getInfo\u001b[39m\u001b[34m(self)\u001b[39m\n\u001b[32m    101\u001b[39m \u001b[38;5;28;01mdef\u001b[39;00m\u001b[38;5;250m \u001b[39m\u001b[34mgetInfo\u001b[39m(\u001b[38;5;28mself\u001b[39m) -> Optional[Any]:\n\u001b[32m    102\u001b[39m \u001b[38;5;250m  \u001b[39m\u001b[33;03m\"\"\"Fetch and return information about this object.\u001b[39;00m\n\u001b[32m    103\u001b[39m \n\u001b[32m    104\u001b[39m \u001b[33;03m  Returns:\u001b[39;00m\n\u001b[32m    105\u001b[39m \u001b[33;03m    The object can evaluate to anything.\u001b[39;00m\n\u001b[32m    106\u001b[39m \u001b[33;03m  \"\"\"\u001b[39;00m\n\u001b[32m--> \u001b[39m\u001b[32m107\u001b[39m   \u001b[38;5;28;01mreturn\u001b[39;00m \u001b[43mdata\u001b[49m\u001b[43m.\u001b[49m\u001b[43mcomputeValue\u001b[49m\u001b[43m(\u001b[49m\u001b[38;5;28;43mself\u001b[39;49m\u001b[43m)\u001b[49m\n",
      "\u001b[36mFile \u001b[39m\u001b[32mc:\\Users\\ssarf\\miniconda3\\envs\\gee\\Lib\\site-packages\\ee\\data.py:1128\u001b[39m, in \u001b[36mcomputeValue\u001b[39m\u001b[34m(obj)\u001b[39m\n\u001b[32m   1125\u001b[39m body = {\u001b[33m'\u001b[39m\u001b[33mexpression\u001b[39m\u001b[33m'\u001b[39m: serializer.encode(obj, for_cloud_api=\u001b[38;5;28;01mTrue\u001b[39;00m)}\n\u001b[32m   1126\u001b[39m _maybe_populate_workload_tag(body)\n\u001b[32m-> \u001b[39m\u001b[32m1128\u001b[39m \u001b[38;5;28;01mreturn\u001b[39;00m \u001b[43m_execute_cloud_call\u001b[49m\u001b[43m(\u001b[49m\n\u001b[32m   1129\u001b[39m \u001b[43m    \u001b[49m\u001b[43m_get_cloud_projects\u001b[49m\u001b[43m(\u001b[49m\u001b[43m)\u001b[49m\n\u001b[32m   1130\u001b[39m \u001b[43m    \u001b[49m\u001b[43m.\u001b[49m\u001b[43mvalue\u001b[49m\u001b[43m(\u001b[49m\u001b[43m)\u001b[49m\n\u001b[32m   1131\u001b[39m \u001b[43m    \u001b[49m\u001b[43m.\u001b[49m\u001b[43mcompute\u001b[49m\u001b[43m(\u001b[49m\u001b[43mbody\u001b[49m\u001b[43m=\u001b[49m\u001b[43mbody\u001b[49m\u001b[43m,\u001b[49m\u001b[43m \u001b[49m\u001b[43mproject\u001b[49m\u001b[43m=\u001b[49m\u001b[43m_get_projects_path\u001b[49m\u001b[43m(\u001b[49m\u001b[43m)\u001b[49m\u001b[43m,\u001b[49m\u001b[43m \u001b[49m\u001b[43mprettyPrint\u001b[49m\u001b[43m=\u001b[49m\u001b[38;5;28;43;01mFalse\u001b[39;49;00m\u001b[43m)\u001b[49m\n\u001b[32m   1132\u001b[39m \u001b[43m\u001b[49m\u001b[43m)\u001b[49m[\u001b[33m'\u001b[39m\u001b[33mresult\u001b[39m\u001b[33m'\u001b[39m]\n",
      "\u001b[36mFile \u001b[39m\u001b[32mc:\\Users\\ssarf\\miniconda3\\envs\\gee\\Lib\\site-packages\\ee\\data.py:408\u001b[39m, in \u001b[36m_execute_cloud_call\u001b[39m\u001b[34m(call, num_retries)\u001b[39m\n\u001b[32m    406\u001b[39m num_retries = _max_retries \u001b[38;5;28;01mif\u001b[39;00m num_retries \u001b[38;5;129;01mis\u001b[39;00m \u001b[38;5;28;01mNone\u001b[39;00m \u001b[38;5;28;01melse\u001b[39;00m num_retries\n\u001b[32m    407\u001b[39m \u001b[38;5;28;01mtry\u001b[39;00m:\n\u001b[32m--> \u001b[39m\u001b[32m408\u001b[39m   \u001b[38;5;28;01mreturn\u001b[39;00m \u001b[43mcall\u001b[49m\u001b[43m.\u001b[49m\u001b[43mexecute\u001b[49m\u001b[43m(\u001b[49m\u001b[43mnum_retries\u001b[49m\u001b[43m=\u001b[49m\u001b[43mnum_retries\u001b[49m\u001b[43m)\u001b[49m\n\u001b[32m    409\u001b[39m \u001b[38;5;28;01mexcept\u001b[39;00m googleapiclient.errors.HttpError \u001b[38;5;28;01mas\u001b[39;00m e:\n\u001b[32m    410\u001b[39m   \u001b[38;5;28;01mraise\u001b[39;00m _translate_cloud_exception(e)\n",
      "\u001b[36mFile \u001b[39m\u001b[32mc:\\Users\\ssarf\\miniconda3\\envs\\gee\\Lib\\site-packages\\googleapiclient\\_helpers.py:130\u001b[39m, in \u001b[36mpositional.<locals>.positional_decorator.<locals>.positional_wrapper\u001b[39m\u001b[34m(*args, **kwargs)\u001b[39m\n\u001b[32m    128\u001b[39m     \u001b[38;5;28;01melif\u001b[39;00m positional_parameters_enforcement == POSITIONAL_WARNING:\n\u001b[32m    129\u001b[39m         logger.warning(message)\n\u001b[32m--> \u001b[39m\u001b[32m130\u001b[39m \u001b[38;5;28;01mreturn\u001b[39;00m \u001b[43mwrapped\u001b[49m\u001b[43m(\u001b[49m\u001b[43m*\u001b[49m\u001b[43margs\u001b[49m\u001b[43m,\u001b[49m\u001b[43m \u001b[49m\u001b[43m*\u001b[49m\u001b[43m*\u001b[49m\u001b[43mkwargs\u001b[49m\u001b[43m)\u001b[49m\n",
      "\u001b[36mFile \u001b[39m\u001b[32mc:\\Users\\ssarf\\miniconda3\\envs\\gee\\Lib\\site-packages\\googleapiclient\\http.py:923\u001b[39m, in \u001b[36mHttpRequest.execute\u001b[39m\u001b[34m(self, http, num_retries)\u001b[39m\n\u001b[32m    920\u001b[39m     \u001b[38;5;28mself\u001b[39m.headers[\u001b[33m\"\u001b[39m\u001b[33mcontent-length\u001b[39m\u001b[33m\"\u001b[39m] = \u001b[38;5;28mstr\u001b[39m(\u001b[38;5;28mlen\u001b[39m(\u001b[38;5;28mself\u001b[39m.body))\n\u001b[32m    922\u001b[39m \u001b[38;5;66;03m# Handle retries for server-side errors.\u001b[39;00m\n\u001b[32m--> \u001b[39m\u001b[32m923\u001b[39m resp, content = \u001b[43m_retry_request\u001b[49m\u001b[43m(\u001b[49m\n\u001b[32m    924\u001b[39m \u001b[43m    \u001b[49m\u001b[43mhttp\u001b[49m\u001b[43m,\u001b[49m\n\u001b[32m    925\u001b[39m \u001b[43m    \u001b[49m\u001b[43mnum_retries\u001b[49m\u001b[43m,\u001b[49m\n\u001b[32m    926\u001b[39m \u001b[43m    \u001b[49m\u001b[33;43m\"\u001b[39;49m\u001b[33;43mrequest\u001b[39;49m\u001b[33;43m\"\u001b[39;49m\u001b[43m,\u001b[49m\n\u001b[32m    927\u001b[39m \u001b[43m    \u001b[49m\u001b[38;5;28;43mself\u001b[39;49m\u001b[43m.\u001b[49m\u001b[43m_sleep\u001b[49m\u001b[43m,\u001b[49m\n\u001b[32m    928\u001b[39m \u001b[43m    \u001b[49m\u001b[38;5;28;43mself\u001b[39;49m\u001b[43m.\u001b[49m\u001b[43m_rand\u001b[49m\u001b[43m,\u001b[49m\n\u001b[32m    929\u001b[39m \u001b[43m    \u001b[49m\u001b[38;5;28;43mstr\u001b[39;49m\u001b[43m(\u001b[49m\u001b[38;5;28;43mself\u001b[39;49m\u001b[43m.\u001b[49m\u001b[43muri\u001b[49m\u001b[43m)\u001b[49m\u001b[43m,\u001b[49m\n\u001b[32m    930\u001b[39m \u001b[43m    \u001b[49m\u001b[43mmethod\u001b[49m\u001b[43m=\u001b[49m\u001b[38;5;28;43mstr\u001b[39;49m\u001b[43m(\u001b[49m\u001b[38;5;28;43mself\u001b[39;49m\u001b[43m.\u001b[49m\u001b[43mmethod\u001b[49m\u001b[43m)\u001b[49m\u001b[43m,\u001b[49m\n\u001b[32m    931\u001b[39m \u001b[43m    \u001b[49m\u001b[43mbody\u001b[49m\u001b[43m=\u001b[49m\u001b[38;5;28;43mself\u001b[39;49m\u001b[43m.\u001b[49m\u001b[43mbody\u001b[49m\u001b[43m,\u001b[49m\n\u001b[32m    932\u001b[39m \u001b[43m    \u001b[49m\u001b[43mheaders\u001b[49m\u001b[43m=\u001b[49m\u001b[38;5;28;43mself\u001b[39;49m\u001b[43m.\u001b[49m\u001b[43mheaders\u001b[49m\u001b[43m,\u001b[49m\n\u001b[32m    933\u001b[39m \u001b[43m\u001b[49m\u001b[43m)\u001b[49m\n\u001b[32m    935\u001b[39m \u001b[38;5;28;01mfor\u001b[39;00m callback \u001b[38;5;129;01min\u001b[39;00m \u001b[38;5;28mself\u001b[39m.response_callbacks:\n\u001b[32m    936\u001b[39m     callback(resp)\n",
      "\u001b[36mFile \u001b[39m\u001b[32mc:\\Users\\ssarf\\miniconda3\\envs\\gee\\Lib\\site-packages\\googleapiclient\\http.py:191\u001b[39m, in \u001b[36m_retry_request\u001b[39m\u001b[34m(http, num_retries, req_type, sleep, rand, uri, method, *args, **kwargs)\u001b[39m\n\u001b[32m    189\u001b[39m \u001b[38;5;28;01mtry\u001b[39;00m:\n\u001b[32m    190\u001b[39m     exception = \u001b[38;5;28;01mNone\u001b[39;00m\n\u001b[32m--> \u001b[39m\u001b[32m191\u001b[39m     resp, content = \u001b[43mhttp\u001b[49m\u001b[43m.\u001b[49m\u001b[43mrequest\u001b[49m\u001b[43m(\u001b[49m\u001b[43muri\u001b[49m\u001b[43m,\u001b[49m\u001b[43m \u001b[49m\u001b[43mmethod\u001b[49m\u001b[43m,\u001b[49m\u001b[43m \u001b[49m\u001b[43m*\u001b[49m\u001b[43margs\u001b[49m\u001b[43m,\u001b[49m\u001b[43m \u001b[49m\u001b[43m*\u001b[49m\u001b[43m*\u001b[49m\u001b[43mkwargs\u001b[49m\u001b[43m)\u001b[49m\n\u001b[32m    192\u001b[39m \u001b[38;5;66;03m# Retry on SSL errors and socket timeout errors.\u001b[39;00m\n\u001b[32m    193\u001b[39m \u001b[38;5;28;01mexcept\u001b[39;00m _ssl_SSLError \u001b[38;5;28;01mas\u001b[39;00m ssl_error:\n",
      "\u001b[36mFile \u001b[39m\u001b[32mc:\\Users\\ssarf\\miniconda3\\envs\\gee\\Lib\\site-packages\\google_auth_httplib2.py:245\u001b[39m, in \u001b[36mAuthorizedHttp.request\u001b[39m\u001b[34m(self, uri, method, body, headers, redirections, connection_type, **kwargs)\u001b[39m\n\u001b[32m    233\u001b[39m \u001b[38;5;28;01mif\u001b[39;00m (\n\u001b[32m    234\u001b[39m     response.status \u001b[38;5;129;01min\u001b[39;00m \u001b[38;5;28mself\u001b[39m._refresh_status_codes\n\u001b[32m    235\u001b[39m     \u001b[38;5;129;01mand\u001b[39;00m _credential_refresh_attempt < \u001b[38;5;28mself\u001b[39m._max_refresh_attempts\n\u001b[32m    236\u001b[39m ):\n\u001b[32m    238\u001b[39m     _LOGGER.info(\n\u001b[32m    239\u001b[39m         \u001b[33m\"\u001b[39m\u001b[33mRefreshing credentials due to a \u001b[39m\u001b[38;5;132;01m%s\u001b[39;00m\u001b[33m response. Attempt \u001b[39m\u001b[38;5;132;01m%s\u001b[39;00m\u001b[33m/\u001b[39m\u001b[38;5;132;01m%s\u001b[39;00m\u001b[33m.\u001b[39m\u001b[33m\"\u001b[39m,\n\u001b[32m    240\u001b[39m         response.status,\n\u001b[32m    241\u001b[39m         _credential_refresh_attempt + \u001b[32m1\u001b[39m,\n\u001b[32m    242\u001b[39m         \u001b[38;5;28mself\u001b[39m._max_refresh_attempts,\n\u001b[32m    243\u001b[39m     )\n\u001b[32m--> \u001b[39m\u001b[32m245\u001b[39m     \u001b[38;5;28;43mself\u001b[39;49m\u001b[43m.\u001b[49m\u001b[43mcredentials\u001b[49m\u001b[43m.\u001b[49m\u001b[43mrefresh\u001b[49m\u001b[43m(\u001b[49m\u001b[38;5;28;43mself\u001b[39;49m\u001b[43m.\u001b[49m\u001b[43m_request\u001b[49m\u001b[43m)\u001b[49m\n\u001b[32m    247\u001b[39m     \u001b[38;5;66;03m# Restore the body's stream position if needed.\u001b[39;00m\n\u001b[32m    248\u001b[39m     \u001b[38;5;28;01mif\u001b[39;00m body_stream_position \u001b[38;5;129;01mis\u001b[39;00m \u001b[38;5;129;01mnot\u001b[39;00m \u001b[38;5;28;01mNone\u001b[39;00m:\n",
      "\u001b[36mFile \u001b[39m\u001b[32mc:\\Users\\ssarf\\miniconda3\\envs\\gee\\Lib\\site-packages\\google\\oauth2\\credentials.py:409\u001b[39m, in \u001b[36mCredentials.refresh\u001b[39m\u001b[34m(self, request)\u001b[39m\n\u001b[32m    391\u001b[39m \u001b[38;5;28;01mif\u001b[39;00m (\n\u001b[32m    392\u001b[39m     \u001b[38;5;28mself\u001b[39m._refresh_token \u001b[38;5;129;01mis\u001b[39;00m \u001b[38;5;28;01mNone\u001b[39;00m\n\u001b[32m    393\u001b[39m     \u001b[38;5;129;01mor\u001b[39;00m \u001b[38;5;28mself\u001b[39m._token_uri \u001b[38;5;129;01mis\u001b[39;00m \u001b[38;5;28;01mNone\u001b[39;00m\n\u001b[32m    394\u001b[39m     \u001b[38;5;129;01mor\u001b[39;00m \u001b[38;5;28mself\u001b[39m._client_id \u001b[38;5;129;01mis\u001b[39;00m \u001b[38;5;28;01mNone\u001b[39;00m\n\u001b[32m    395\u001b[39m     \u001b[38;5;129;01mor\u001b[39;00m \u001b[38;5;28mself\u001b[39m._client_secret \u001b[38;5;129;01mis\u001b[39;00m \u001b[38;5;28;01mNone\u001b[39;00m\n\u001b[32m    396\u001b[39m ):\n\u001b[32m    397\u001b[39m     \u001b[38;5;28;01mraise\u001b[39;00m exceptions.RefreshError(\n\u001b[32m    398\u001b[39m         \u001b[33m\"\u001b[39m\u001b[33mThe credentials do not contain the necessary fields need to \u001b[39m\u001b[33m\"\u001b[39m\n\u001b[32m    399\u001b[39m         \u001b[33m\"\u001b[39m\u001b[33mrefresh the access token. You must specify refresh_token, \u001b[39m\u001b[33m\"\u001b[39m\n\u001b[32m    400\u001b[39m         \u001b[33m\"\u001b[39m\u001b[33mtoken_uri, client_id, and client_secret.\u001b[39m\u001b[33m\"\u001b[39m\n\u001b[32m    401\u001b[39m     )\n\u001b[32m    403\u001b[39m (\n\u001b[32m    404\u001b[39m     access_token,\n\u001b[32m    405\u001b[39m     refresh_token,\n\u001b[32m    406\u001b[39m     expiry,\n\u001b[32m    407\u001b[39m     grant_response,\n\u001b[32m    408\u001b[39m     rapt_token,\n\u001b[32m--> \u001b[39m\u001b[32m409\u001b[39m ) = \u001b[43mreauth\u001b[49m\u001b[43m.\u001b[49m\u001b[43mrefresh_grant\u001b[49m\u001b[43m(\u001b[49m\n\u001b[32m    410\u001b[39m \u001b[43m    \u001b[49m\u001b[43mrequest\u001b[49m\u001b[43m,\u001b[49m\n\u001b[32m    411\u001b[39m \u001b[43m    \u001b[49m\u001b[38;5;28;43mself\u001b[39;49m\u001b[43m.\u001b[49m\u001b[43m_token_uri\u001b[49m\u001b[43m,\u001b[49m\n\u001b[32m    412\u001b[39m \u001b[43m    \u001b[49m\u001b[38;5;28;43mself\u001b[39;49m\u001b[43m.\u001b[49m\u001b[43m_refresh_token\u001b[49m\u001b[43m,\u001b[49m\n\u001b[32m    413\u001b[39m \u001b[43m    \u001b[49m\u001b[38;5;28;43mself\u001b[39;49m\u001b[43m.\u001b[49m\u001b[43m_client_id\u001b[49m\u001b[43m,\u001b[49m\n\u001b[32m    414\u001b[39m \u001b[43m    \u001b[49m\u001b[38;5;28;43mself\u001b[39;49m\u001b[43m.\u001b[49m\u001b[43m_client_secret\u001b[49m\u001b[43m,\u001b[49m\n\u001b[32m    415\u001b[39m \u001b[43m    \u001b[49m\u001b[43mscopes\u001b[49m\u001b[43m=\u001b[49m\u001b[43mscopes\u001b[49m\u001b[43m,\u001b[49m\n\u001b[32m    416\u001b[39m \u001b[43m    \u001b[49m\u001b[43mrapt_token\u001b[49m\u001b[43m=\u001b[49m\u001b[38;5;28;43mself\u001b[39;49m\u001b[43m.\u001b[49m\u001b[43m_rapt_token\u001b[49m\u001b[43m,\u001b[49m\n\u001b[32m    417\u001b[39m \u001b[43m    \u001b[49m\u001b[43menable_reauth_refresh\u001b[49m\u001b[43m=\u001b[49m\u001b[38;5;28;43mself\u001b[39;49m\u001b[43m.\u001b[49m\u001b[43m_enable_reauth_refresh\u001b[49m\u001b[43m,\u001b[49m\n\u001b[32m    418\u001b[39m \u001b[43m\u001b[49m\u001b[43m)\u001b[49m\n\u001b[32m    420\u001b[39m \u001b[38;5;28mself\u001b[39m.token = access_token\n\u001b[32m    421\u001b[39m \u001b[38;5;28mself\u001b[39m.expiry = expiry\n",
      "\u001b[36mFile \u001b[39m\u001b[32mc:\\Users\\ssarf\\miniconda3\\envs\\gee\\Lib\\site-packages\\google\\oauth2\\reauth.py:366\u001b[39m, in \u001b[36mrefresh_grant\u001b[39m\u001b[34m(request, token_uri, refresh_token, client_id, client_secret, scopes, rapt_token, enable_reauth_refresh)\u001b[39m\n\u001b[32m    357\u001b[39m     (\n\u001b[32m    358\u001b[39m         response_status_ok,\n\u001b[32m    359\u001b[39m         response_data,\n\u001b[32m   (...)\u001b[39m\u001b[32m    362\u001b[39m         request, token_uri, body, headers=metrics_header\n\u001b[32m    363\u001b[39m     )\n\u001b[32m    365\u001b[39m \u001b[38;5;28;01mif\u001b[39;00m \u001b[38;5;129;01mnot\u001b[39;00m response_status_ok:\n\u001b[32m--> \u001b[39m\u001b[32m366\u001b[39m     \u001b[43m_client\u001b[49m\u001b[43m.\u001b[49m\u001b[43m_handle_error_response\u001b[49m\u001b[43m(\u001b[49m\u001b[43mresponse_data\u001b[49m\u001b[43m,\u001b[49m\u001b[43m \u001b[49m\u001b[43mretryable_error\u001b[49m\u001b[43m)\u001b[49m\n\u001b[32m    367\u001b[39m \u001b[38;5;28;01mreturn\u001b[39;00m _client._handle_refresh_grant_response(response_data, refresh_token) + (\n\u001b[32m    368\u001b[39m     rapt_token,\n\u001b[32m    369\u001b[39m )\n",
      "\u001b[36mFile \u001b[39m\u001b[32mc:\\Users\\ssarf\\miniconda3\\envs\\gee\\Lib\\site-packages\\google\\oauth2\\_client.py:69\u001b[39m, in \u001b[36m_handle_error_response\u001b[39m\u001b[34m(response_data, retryable_error)\u001b[39m\n\u001b[32m     66\u001b[39m \u001b[38;5;28;01mexcept\u001b[39;00m (\u001b[38;5;167;01mKeyError\u001b[39;00m, \u001b[38;5;167;01mValueError\u001b[39;00m):\n\u001b[32m     67\u001b[39m     error_details = json.dumps(response_data)\n\u001b[32m---> \u001b[39m\u001b[32m69\u001b[39m \u001b[38;5;28;01mraise\u001b[39;00m exceptions.RefreshError(\n\u001b[32m     70\u001b[39m     error_details, response_data, retryable=retryable_error\n\u001b[32m     71\u001b[39m )\n",
      "\u001b[31mRefreshError\u001b[39m: ('invalid_grant: Token has been expired or revoked.', {'error': 'invalid_grant', 'error_description': 'Token has been expired or revoked.'})"
     ]
    }
   ],
   "source": [
    "projection = second_collection.projection().getInfo()\n",
    "projection"
   ]
  },
  {
   "cell_type": "code",
   "execution_count": 21,
   "id": "aa9a3d83",
   "metadata": {},
   "outputs": [
    {
     "data": {
      "text/html": [
       "\n",
       "            <style>\n",
       "                .geemap-dark {\n",
       "                    --jp-widgets-color: white;\n",
       "                    --jp-widgets-label-color: white;\n",
       "                    --jp-ui-font-color1: white;\n",
       "                    --jp-layout-color2: #454545;\n",
       "                    background-color: #383838;\n",
       "                }\n",
       "\n",
       "                .geemap-dark .jupyter-button {\n",
       "                    --jp-layout-color3: #383838;\n",
       "                }\n",
       "\n",
       "                .geemap-colab {\n",
       "                    background-color: var(--colab-primary-surface-color, white);\n",
       "                }\n",
       "\n",
       "                .geemap-colab .jupyter-button {\n",
       "                    --jp-layout-color3: var(--colab-primary-surface-color, white);\n",
       "                }\n",
       "            </style>\n",
       "            "
      ],
      "text/plain": [
       "<IPython.core.display.HTML object>"
      ]
     },
     "metadata": {},
     "output_type": "display_data"
    }
   ],
   "source": [
    "crs = projection[\"crs\"]\n",
    "crs_transform = projection[\"transform\"]"
   ]
  },
  {
   "cell_type": "code",
   "execution_count": 23,
   "id": "ae56a6ca",
   "metadata": {},
   "outputs": [
    {
     "data": {
      "text/html": [
       "\n",
       "            <style>\n",
       "                .geemap-dark {\n",
       "                    --jp-widgets-color: white;\n",
       "                    --jp-widgets-label-color: white;\n",
       "                    --jp-ui-font-color1: white;\n",
       "                    --jp-layout-color2: #454545;\n",
       "                    background-color: #383838;\n",
       "                }\n",
       "\n",
       "                .geemap-dark .jupyter-button {\n",
       "                    --jp-layout-color3: #383838;\n",
       "                }\n",
       "\n",
       "                .geemap-colab {\n",
       "                    background-color: var(--colab-primary-surface-color, white);\n",
       "                }\n",
       "\n",
       "                .geemap-colab .jupyter-button {\n",
       "                    --jp-layout-color3: var(--colab-primary-surface-color, white);\n",
       "                }\n",
       "            </style>\n",
       "            "
      ],
      "text/plain": [
       "<IPython.core.display.HTML object>"
      ]
     },
     "metadata": {},
     "output_type": "display_data"
    },
    {
     "name": "stdout",
     "output_type": "stream",
     "text": [
      "Total number of images: 23\n",
      "\n",
      "Exporting 1/23: C:/Users/ssarf/Documents/Geomatics/DataSets/Canada/Alberta_LC_500m\\2001_01_01.tif\n",
      "Generating URL ...\n",
      "Downloading data from https://earthengine.googleapis.com/v1/projects/491428724907/thumbnails/20abd2dbfb29f027ebea996f3eae24da-4f8afa93fee4459241a9672a11458ba3:getPixels\n",
      "Please wait ...\n",
      "Data downloaded to C:\\Users\\ssarf\\Documents\\Geomatics\\DataSets\\Canada\\Alberta_LC_500m\\2001_01_01.tif\n",
      "\n",
      "\n",
      "Exporting 2/23: C:/Users/ssarf/Documents/Geomatics/DataSets/Canada/Alberta_LC_500m\\2002_01_01.tif\n",
      "Generating URL ...\n",
      "Downloading data from https://earthengine.googleapis.com/v1/projects/491428724907/thumbnails/9254a6eaca22c5345784d194355a96cb-eea255cdcbde04f81651dcb00a7ca246:getPixels\n",
      "Please wait ...\n",
      "Data downloaded to C:\\Users\\ssarf\\Documents\\Geomatics\\DataSets\\Canada\\Alberta_LC_500m\\2002_01_01.tif\n",
      "\n",
      "\n",
      "Exporting 3/23: C:/Users/ssarf/Documents/Geomatics/DataSets/Canada/Alberta_LC_500m\\2003_01_01.tif\n",
      "Generating URL ...\n",
      "Downloading data from https://earthengine.googleapis.com/v1/projects/491428724907/thumbnails/9f18a97b0c148a1efd68a4e36641f0aa-e629ba77666bb1864a4c1b429c2a42ff:getPixels\n",
      "Please wait ...\n",
      "Data downloaded to C:\\Users\\ssarf\\Documents\\Geomatics\\DataSets\\Canada\\Alberta_LC_500m\\2003_01_01.tif\n",
      "\n",
      "\n",
      "Exporting 4/23: C:/Users/ssarf/Documents/Geomatics/DataSets/Canada/Alberta_LC_500m\\2004_01_01.tif\n",
      "Generating URL ...\n",
      "Downloading data from https://earthengine.googleapis.com/v1/projects/491428724907/thumbnails/071f5a0d75914926318d153fcc25ca0f-9cdf7d116331975d1a7b796b571af665:getPixels\n",
      "Please wait ...\n",
      "Data downloaded to C:\\Users\\ssarf\\Documents\\Geomatics\\DataSets\\Canada\\Alberta_LC_500m\\2004_01_01.tif\n",
      "\n",
      "\n",
      "Exporting 5/23: C:/Users/ssarf/Documents/Geomatics/DataSets/Canada/Alberta_LC_500m\\2005_01_01.tif\n",
      "Generating URL ...\n",
      "Downloading data from https://earthengine.googleapis.com/v1/projects/491428724907/thumbnails/e697ce803f9a0cf2e985198a427cd36b-57b5625632c69c860fd9d0949d530111:getPixels\n",
      "Please wait ...\n",
      "Data downloaded to C:\\Users\\ssarf\\Documents\\Geomatics\\DataSets\\Canada\\Alberta_LC_500m\\2005_01_01.tif\n",
      "\n",
      "\n",
      "Exporting 6/23: C:/Users/ssarf/Documents/Geomatics/DataSets/Canada/Alberta_LC_500m\\2006_01_01.tif\n",
      "Generating URL ...\n",
      "Downloading data from https://earthengine.googleapis.com/v1/projects/491428724907/thumbnails/77a7ac23cccac9824d1965a888bcdcb3-a36f7b48484de64bb70665cd21229667:getPixels\n",
      "Please wait ...\n",
      "Data downloaded to C:\\Users\\ssarf\\Documents\\Geomatics\\DataSets\\Canada\\Alberta_LC_500m\\2006_01_01.tif\n",
      "\n",
      "\n",
      "Exporting 7/23: C:/Users/ssarf/Documents/Geomatics/DataSets/Canada/Alberta_LC_500m\\2007_01_01.tif\n",
      "Generating URL ...\n",
      "Downloading data from https://earthengine.googleapis.com/v1/projects/491428724907/thumbnails/c6f482ab3923ee04805300c41ffaacbd-2b1ea0b36b5199aeb143de7a0b0dca23:getPixels\n",
      "Please wait ...\n",
      "Data downloaded to C:\\Users\\ssarf\\Documents\\Geomatics\\DataSets\\Canada\\Alberta_LC_500m\\2007_01_01.tif\n",
      "\n",
      "\n",
      "Exporting 8/23: C:/Users/ssarf/Documents/Geomatics/DataSets/Canada/Alberta_LC_500m\\2008_01_01.tif\n",
      "Generating URL ...\n",
      "Downloading data from https://earthengine.googleapis.com/v1/projects/491428724907/thumbnails/9f0f8f03d663ddfae6f05556a744cdcf-27af42ac6bc38e38c34158da2fe6434d:getPixels\n",
      "Please wait ...\n",
      "Data downloaded to C:\\Users\\ssarf\\Documents\\Geomatics\\DataSets\\Canada\\Alberta_LC_500m\\2008_01_01.tif\n",
      "\n",
      "\n",
      "Exporting 9/23: C:/Users/ssarf/Documents/Geomatics/DataSets/Canada/Alberta_LC_500m\\2009_01_01.tif\n",
      "Generating URL ...\n",
      "Downloading data from https://earthengine.googleapis.com/v1/projects/491428724907/thumbnails/d5613970617499bb7fbe64914a3fa77a-33c22a1ba1fc39a804cb9e06c1fade38:getPixels\n",
      "Please wait ...\n",
      "Data downloaded to C:\\Users\\ssarf\\Documents\\Geomatics\\DataSets\\Canada\\Alberta_LC_500m\\2009_01_01.tif\n",
      "\n",
      "\n",
      "Exporting 10/23: C:/Users/ssarf/Documents/Geomatics/DataSets/Canada/Alberta_LC_500m\\2010_01_01.tif\n",
      "Generating URL ...\n",
      "Downloading data from https://earthengine.googleapis.com/v1/projects/491428724907/thumbnails/cc09b6a0c97948ce67b55ca56aad3447-16f996c39729504638eaaefb93408676:getPixels\n",
      "Please wait ...\n",
      "Data downloaded to C:\\Users\\ssarf\\Documents\\Geomatics\\DataSets\\Canada\\Alberta_LC_500m\\2010_01_01.tif\n",
      "\n",
      "\n",
      "Exporting 11/23: C:/Users/ssarf/Documents/Geomatics/DataSets/Canada/Alberta_LC_500m\\2011_01_01.tif\n",
      "Generating URL ...\n",
      "Downloading data from https://earthengine.googleapis.com/v1/projects/491428724907/thumbnails/38bef46ae1189a83350a9a93ea8981e0-bdd71dab85438af4a706d58b318528c2:getPixels\n",
      "Please wait ...\n",
      "Data downloaded to C:\\Users\\ssarf\\Documents\\Geomatics\\DataSets\\Canada\\Alberta_LC_500m\\2011_01_01.tif\n",
      "\n",
      "\n",
      "Exporting 12/23: C:/Users/ssarf/Documents/Geomatics/DataSets/Canada/Alberta_LC_500m\\2012_01_01.tif\n",
      "Generating URL ...\n",
      "Downloading data from https://earthengine.googleapis.com/v1/projects/491428724907/thumbnails/c69c5ffa7d9bb0bda392230a1130de90-373410d072ff66913d4b153cae819f93:getPixels\n",
      "Please wait ...\n",
      "Data downloaded to C:\\Users\\ssarf\\Documents\\Geomatics\\DataSets\\Canada\\Alberta_LC_500m\\2012_01_01.tif\n",
      "\n",
      "\n",
      "Exporting 13/23: C:/Users/ssarf/Documents/Geomatics/DataSets/Canada/Alberta_LC_500m\\2013_01_01.tif\n",
      "Generating URL ...\n",
      "Downloading data from https://earthengine.googleapis.com/v1/projects/491428724907/thumbnails/5e42e882530bef2214136533aae2e1e0-af7850422c986800f0544baacacc47b1:getPixels\n",
      "Please wait ...\n",
      "Data downloaded to C:\\Users\\ssarf\\Documents\\Geomatics\\DataSets\\Canada\\Alberta_LC_500m\\2013_01_01.tif\n",
      "\n",
      "\n",
      "Exporting 14/23: C:/Users/ssarf/Documents/Geomatics/DataSets/Canada/Alberta_LC_500m\\2014_01_01.tif\n",
      "Generating URL ...\n",
      "Downloading data from https://earthengine.googleapis.com/v1/projects/491428724907/thumbnails/052786ba99275465d0d157ac1565eaaa-5d818d82347ba7dd8e324001196f0a23:getPixels\n",
      "Please wait ...\n",
      "Data downloaded to C:\\Users\\ssarf\\Documents\\Geomatics\\DataSets\\Canada\\Alberta_LC_500m\\2014_01_01.tif\n",
      "\n",
      "\n",
      "Exporting 15/23: C:/Users/ssarf/Documents/Geomatics/DataSets/Canada/Alberta_LC_500m\\2015_01_01.tif\n",
      "Generating URL ...\n",
      "Downloading data from https://earthengine.googleapis.com/v1/projects/491428724907/thumbnails/60f1c10f0eb1eba9708e101150ec8b02-2c4ba4160d7d3ba25467ad97f2e45e3f:getPixels\n",
      "Please wait ...\n",
      "Data downloaded to C:\\Users\\ssarf\\Documents\\Geomatics\\DataSets\\Canada\\Alberta_LC_500m\\2015_01_01.tif\n",
      "\n",
      "\n",
      "Exporting 16/23: C:/Users/ssarf/Documents/Geomatics/DataSets/Canada/Alberta_LC_500m\\2016_01_01.tif\n",
      "Generating URL ...\n",
      "Downloading data from https://earthengine.googleapis.com/v1/projects/491428724907/thumbnails/4f435edf60240dfa3fcabf91f025e456-a01e1aa414ac79fcd8a243f1ffa7905b:getPixels\n",
      "Please wait ...\n",
      "Data downloaded to C:\\Users\\ssarf\\Documents\\Geomatics\\DataSets\\Canada\\Alberta_LC_500m\\2016_01_01.tif\n",
      "\n",
      "\n",
      "Exporting 17/23: C:/Users/ssarf/Documents/Geomatics/DataSets/Canada/Alberta_LC_500m\\2017_01_01.tif\n",
      "Generating URL ...\n",
      "Downloading data from https://earthengine.googleapis.com/v1/projects/491428724907/thumbnails/0d15b2b650179221ad3507ff5de32321-ba7d0b5ded11ed9a4d550dccfba2b850:getPixels\n",
      "Please wait ...\n",
      "Data downloaded to C:\\Users\\ssarf\\Documents\\Geomatics\\DataSets\\Canada\\Alberta_LC_500m\\2017_01_01.tif\n",
      "\n",
      "\n",
      "Exporting 18/23: C:/Users/ssarf/Documents/Geomatics/DataSets/Canada/Alberta_LC_500m\\2018_01_01.tif\n",
      "Generating URL ...\n",
      "Downloading data from https://earthengine.googleapis.com/v1/projects/491428724907/thumbnails/83da39a4944a0a797bf9a941fdfd8dbe-c3738e69a667e2d8aea23609a0c3f01c:getPixels\n",
      "Please wait ...\n",
      "Data downloaded to C:\\Users\\ssarf\\Documents\\Geomatics\\DataSets\\Canada\\Alberta_LC_500m\\2018_01_01.tif\n",
      "\n",
      "\n",
      "Exporting 19/23: C:/Users/ssarf/Documents/Geomatics/DataSets/Canada/Alberta_LC_500m\\2019_01_01.tif\n",
      "Generating URL ...\n",
      "Downloading data from https://earthengine.googleapis.com/v1/projects/491428724907/thumbnails/6b354e01147879693da9add9024c759a-abbc9e03f1932e9766b08911f2f99a37:getPixels\n",
      "Please wait ...\n",
      "Data downloaded to C:\\Users\\ssarf\\Documents\\Geomatics\\DataSets\\Canada\\Alberta_LC_500m\\2019_01_01.tif\n",
      "\n",
      "\n",
      "Exporting 20/23: C:/Users/ssarf/Documents/Geomatics/DataSets/Canada/Alberta_LC_500m\\2020_01_01.tif\n",
      "Generating URL ...\n",
      "Downloading data from https://earthengine.googleapis.com/v1/projects/491428724907/thumbnails/8653851705de736103b839492457bbd6-417e84baa86d9f79339c7568c70fc2fe:getPixels\n",
      "Please wait ...\n",
      "Data downloaded to C:\\Users\\ssarf\\Documents\\Geomatics\\DataSets\\Canada\\Alberta_LC_500m\\2020_01_01.tif\n",
      "\n",
      "\n",
      "Exporting 21/23: C:/Users/ssarf/Documents/Geomatics/DataSets/Canada/Alberta_LC_500m\\2021_01_01.tif\n",
      "Generating URL ...\n",
      "Downloading data from https://earthengine.googleapis.com/v1/projects/491428724907/thumbnails/0a376ae428853e680b5dbe11e86b730e-07037566201595f61af75ac588059c13:getPixels\n",
      "Please wait ...\n",
      "Data downloaded to C:\\Users\\ssarf\\Documents\\Geomatics\\DataSets\\Canada\\Alberta_LC_500m\\2021_01_01.tif\n",
      "\n",
      "\n",
      "Exporting 22/23: C:/Users/ssarf/Documents/Geomatics/DataSets/Canada/Alberta_LC_500m\\2022_01_01.tif\n",
      "Generating URL ...\n",
      "Downloading data from https://earthengine.googleapis.com/v1/projects/491428724907/thumbnails/15c84e9016ae4837d91f8d7e6a4eb299-ce3362ccfabac80640cc358eb2ce28ff:getPixels\n",
      "Please wait ...\n",
      "Data downloaded to C:\\Users\\ssarf\\Documents\\Geomatics\\DataSets\\Canada\\Alberta_LC_500m\\2022_01_01.tif\n",
      "\n",
      "\n",
      "Exporting 23/23: C:/Users/ssarf/Documents/Geomatics/DataSets/Canada/Alberta_LC_500m\\2023_01_01.tif\n",
      "Generating URL ...\n",
      "Downloading data from https://earthengine.googleapis.com/v1/projects/491428724907/thumbnails/dd97e67ed919fdbed8319bac6a8c2073-3691d88a4c52c347761d6c8b01a431dd:getPixels\n",
      "Please wait ...\n",
      "Data downloaded to C:\\Users\\ssarf\\Documents\\Geomatics\\DataSets\\Canada\\Alberta_LC_500m\\2023_01_01.tif\n",
      "\n",
      "\n"
     ]
    }
   ],
   "source": [
    "geemap.ee_export_image_collection(select_all_collections, out_dir=\"C:/Users/ssarf/Documents/Geomatics/DataSets/Canada/Alberta_LC_500m\", crs=crs,\n",
    "    crs_transform=crs_transform,  region=Alberta.geometry())"
   ]
  },
  {
   "cell_type": "code",
   "execution_count": 4,
   "id": "c993b69f",
   "metadata": {},
   "outputs": [],
   "source": [
    "import rasterio "
   ]
  },
  {
   "cell_type": "code",
   "execution_count": 10,
   "id": "f1c5ff6a",
   "metadata": {},
   "outputs": [
    {
     "ename": "RasterioIOError",
     "evalue": "'/vsicurl/https://github.com/legendary-sms/DataSets/blob/main/2003_01_01.tif' not recognized as being in a supported file format.",
     "output_type": "error",
     "traceback": [
      "\u001b[31m---------------------------------------------------------------------------\u001b[39m",
      "\u001b[31mCPLE_OpenFailedError\u001b[39m                      Traceback (most recent call last)",
      "\u001b[36mFile \u001b[39m\u001b[32mrasterio\\\\_base.pyx:310\u001b[39m, in \u001b[36mrasterio._base.DatasetBase.__init__\u001b[39m\u001b[34m()\u001b[39m\n",
      "\u001b[36mFile \u001b[39m\u001b[32mrasterio\\\\_base.pyx:221\u001b[39m, in \u001b[36mrasterio._base.open_dataset\u001b[39m\u001b[34m()\u001b[39m\n",
      "\u001b[36mFile \u001b[39m\u001b[32mrasterio\\\\_err.pyx:359\u001b[39m, in \u001b[36mrasterio._err.exc_wrap_pointer\u001b[39m\u001b[34m()\u001b[39m\n",
      "\u001b[31mCPLE_OpenFailedError\u001b[39m: '/vsicurl/https://github.com/legendary-sms/DataSets/blob/main/2003_01_01.tif' not recognized as being in a supported file format.",
      "\nDuring handling of the above exception, another exception occurred:\n",
      "\u001b[31mRasterioIOError\u001b[39m                           Traceback (most recent call last)",
      "\u001b[36mCell\u001b[39m\u001b[36m \u001b[39m\u001b[32mIn[10]\u001b[39m\u001b[32m, line 4\u001b[39m\n\u001b[32m      1\u001b[39m raster_path = (\n\u001b[32m      2\u001b[39m     \u001b[33m\"\u001b[39m\u001b[33mhttps://github.com/legendary-sms/DataSets/blob/main/2003_01_01.tif\u001b[39m\u001b[33m\"\u001b[39m\n\u001b[32m      3\u001b[39m )\n\u001b[32m----> \u001b[39m\u001b[32m4\u001b[39m src = \u001b[43mrasterio\u001b[49m\u001b[43m.\u001b[49m\u001b[43mopen\u001b[49m\u001b[43m(\u001b[49m\u001b[43mraster_path\u001b[49m\u001b[43m)\u001b[49m\n\u001b[32m      5\u001b[39m \u001b[38;5;28mprint\u001b[39m(src)\n",
      "\u001b[36mFile \u001b[39m\u001b[32mc:\\Users\\ssarf\\miniconda3\\envs\\geog\\Lib\\site-packages\\rasterio\\env.py:463\u001b[39m, in \u001b[36mensure_env_with_credentials.<locals>.wrapper\u001b[39m\u001b[34m(*args, **kwds)\u001b[39m\n\u001b[32m    460\u001b[39m     session = DummySession()\n\u001b[32m    462\u001b[39m \u001b[38;5;28;01mwith\u001b[39;00m env_ctor(session=session):\n\u001b[32m--> \u001b[39m\u001b[32m463\u001b[39m     \u001b[38;5;28;01mreturn\u001b[39;00m \u001b[43mf\u001b[49m\u001b[43m(\u001b[49m\u001b[43m*\u001b[49m\u001b[43margs\u001b[49m\u001b[43m,\u001b[49m\u001b[43m \u001b[49m\u001b[43m*\u001b[49m\u001b[43m*\u001b[49m\u001b[43mkwds\u001b[49m\u001b[43m)\u001b[49m\n",
      "\u001b[36mFile \u001b[39m\u001b[32mc:\\Users\\ssarf\\miniconda3\\envs\\geog\\Lib\\site-packages\\rasterio\\__init__.py:368\u001b[39m, in \u001b[36mopen\u001b[39m\u001b[34m(fp, mode, driver, width, height, count, crs, transform, dtype, nodata, sharing, opener, **kwargs)\u001b[39m\n\u001b[32m    365\u001b[39m     path = _parse_path(raw_dataset_path)\n\u001b[32m    367\u001b[39m \u001b[38;5;28;01mif\u001b[39;00m mode == \u001b[33m\"\u001b[39m\u001b[33mr\u001b[39m\u001b[33m\"\u001b[39m:\n\u001b[32m--> \u001b[39m\u001b[32m368\u001b[39m     dataset = \u001b[43mDatasetReader\u001b[49m\u001b[43m(\u001b[49m\u001b[43mpath\u001b[49m\u001b[43m,\u001b[49m\u001b[43m \u001b[49m\u001b[43mdriver\u001b[49m\u001b[43m=\u001b[49m\u001b[43mdriver\u001b[49m\u001b[43m,\u001b[49m\u001b[43m \u001b[49m\u001b[43msharing\u001b[49m\u001b[43m=\u001b[49m\u001b[43msharing\u001b[49m\u001b[43m,\u001b[49m\u001b[43m \u001b[49m\u001b[43m*\u001b[49m\u001b[43m*\u001b[49m\u001b[43mkwargs\u001b[49m\u001b[43m)\u001b[49m\n\u001b[32m    369\u001b[39m \u001b[38;5;28;01melif\u001b[39;00m mode == \u001b[33m\"\u001b[39m\u001b[33mr+\u001b[39m\u001b[33m\"\u001b[39m:\n\u001b[32m    370\u001b[39m     dataset = get_writer_for_path(path, driver=driver)(\n\u001b[32m    371\u001b[39m         path, mode, driver=driver, sharing=sharing, **kwargs\n\u001b[32m    372\u001b[39m     )\n",
      "\u001b[36mFile \u001b[39m\u001b[32mrasterio\\\\_base.pyx:312\u001b[39m, in \u001b[36mrasterio._base.DatasetBase.__init__\u001b[39m\u001b[34m()\u001b[39m\n",
      "\u001b[31mRasterioIOError\u001b[39m: '/vsicurl/https://github.com/legendary-sms/DataSets/blob/main/2003_01_01.tif' not recognized as being in a supported file format."
     ]
    }
   ],
   "source": [
    "raster_path = (\n",
    "    \"https://github.com/legendary-sms/DataSets/blob/main/2003_01_01.tif\"\n",
    ")\n",
    "src = rasterio.open(raster_path)\n",
    "print(src)"
   ]
  }
 ],
 "metadata": {
  "kernelspec": {
   "display_name": "gee",
   "language": "python",
   "name": "python3"
  },
  "language_info": {
   "codemirror_mode": {
    "name": "ipython",
    "version": 3
   },
   "file_extension": ".py",
   "mimetype": "text/x-python",
   "name": "python",
   "nbconvert_exporter": "python",
   "pygments_lexer": "ipython3",
   "version": "3.12.9"
  }
 },
 "nbformat": 4,
 "nbformat_minor": 5
}
