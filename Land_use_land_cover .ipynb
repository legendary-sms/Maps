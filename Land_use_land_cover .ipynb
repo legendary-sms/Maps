{
 "cells": [
  {
   "cell_type": "code",
   "execution_count": 62,
   "id": "0c336d4d",
   "metadata": {},
   "outputs": [
    {
     "data": {
      "text/html": [
       "\n",
       "            <style>\n",
       "                .geemap-dark {\n",
       "                    --jp-widgets-color: white;\n",
       "                    --jp-widgets-label-color: white;\n",
       "                    --jp-ui-font-color1: white;\n",
       "                    --jp-layout-color2: #454545;\n",
       "                    background-color: #383838;\n",
       "                }\n",
       "\n",
       "                .geemap-dark .jupyter-button {\n",
       "                    --jp-layout-color3: #383838;\n",
       "                }\n",
       "\n",
       "                .geemap-colab {\n",
       "                    background-color: var(--colab-primary-surface-color, white);\n",
       "                }\n",
       "\n",
       "                .geemap-colab .jupyter-button {\n",
       "                    --jp-layout-color3: var(--colab-primary-surface-color, white);\n",
       "                }\n",
       "            </style>\n",
       "            "
      ],
      "text/plain": [
       "<IPython.core.display.HTML object>"
      ]
     },
     "metadata": {},
     "output_type": "display_data"
    }
   ],
   "source": [
    "#import libraries\n",
    "import ee\n",
    "import geemap\n"
   ]
  },
  {
   "cell_type": "code",
   "execution_count": 56,
   "id": "e83e160b",
   "metadata": {},
   "outputs": [
    {
     "data": {
      "text/html": [
       "\n",
       "            <style>\n",
       "                .geemap-dark {\n",
       "                    --jp-widgets-color: white;\n",
       "                    --jp-widgets-label-color: white;\n",
       "                    --jp-ui-font-color1: white;\n",
       "                    --jp-layout-color2: #454545;\n",
       "                    background-color: #383838;\n",
       "                }\n",
       "\n",
       "                .geemap-dark .jupyter-button {\n",
       "                    --jp-layout-color3: #383838;\n",
       "                }\n",
       "\n",
       "                .geemap-colab {\n",
       "                    background-color: var(--colab-primary-surface-color, white);\n",
       "                }\n",
       "\n",
       "                .geemap-colab .jupyter-button {\n",
       "                    --jp-layout-color3: var(--colab-primary-surface-color, white);\n",
       "                }\n",
       "            </style>\n",
       "            "
      ],
      "text/plain": [
       "<IPython.core.display.HTML object>"
      ]
     },
     "metadata": {},
     "output_type": "display_data"
    }
   ],
   "source": [
    "geemap.ee_initialize()\n"
   ]
  },
  {
   "cell_type": "code",
   "execution_count": 63,
   "id": "9cada932",
   "metadata": {},
   "outputs": [
    {
     "data": {
      "text/html": [
       "\n",
       "            <style>\n",
       "                .geemap-dark {\n",
       "                    --jp-widgets-color: white;\n",
       "                    --jp-widgets-label-color: white;\n",
       "                    --jp-ui-font-color1: white;\n",
       "                    --jp-layout-color2: #454545;\n",
       "                    background-color: #383838;\n",
       "                }\n",
       "\n",
       "                .geemap-dark .jupyter-button {\n",
       "                    --jp-layout-color3: #383838;\n",
       "                }\n",
       "\n",
       "                .geemap-colab {\n",
       "                    background-color: var(--colab-primary-surface-color, white);\n",
       "                }\n",
       "\n",
       "                .geemap-colab .jupyter-button {\n",
       "                    --jp-layout-color3: var(--colab-primary-surface-color, white);\n",
       "                }\n",
       "            </style>\n",
       "            "
      ],
      "text/plain": [
       "<IPython.core.display.HTML object>"
      ]
     },
     "metadata": {},
     "output_type": "display_data"
    },
    {
     "data": {
      "application/vnd.jupyter.widget-view+json": {
       "model_id": "f8086ddb029540a0826430037d3389c9",
       "version_major": 2,
       "version_minor": 0
      },
      "text/plain": [
       "Map(center=[7.960425746830346, -1.2061873867432276], controls=(FullScreenControl(options=['position']), ScaleC…"
      ]
     },
     "execution_count": 63,
     "metadata": {},
     "output_type": "execute_result"
    }
   ],
   "source": [
    "Map = geemap.Map(draw_ctrl=False, data_ctrl=False, measure_ctrl=False, zoom_ctrl=False, fullscreen_ctrl=True, toolbar_ctrl=False)\n",
    "World_LandCover= ee.ImageCollection('ESA/WorldCover/v200').first() #call the named dataset from google earth engine with band name Map\n",
    "url = \"https://mt1.google.com/vt/lyrs=s&x={x}&y={y}&z={z}\" # Add Google satellite imagery\n",
    "\n",
    "#filter the dataset to Ghana to get the land cover of Ghana\n",
    "World_boundaries=ee.FeatureCollection('FAO/GAUL/2015/level0')\n",
    "ghana=World_boundaries.filter(ee.Filter.eq('ADM0_NAME', 'Ghana'))\n",
    "vis_poly={\n",
    "    'color': 'red',\n",
    "    'fillColor': '#ff0000',\n",
    "    'opacity': 0.5,\n",
    "    'width': 2,\n",
    "}\n",
    "\n",
    "Legend_dic={\n",
    "    \"10\tTree cover\":\"#006400\",\n",
    "    \"20\tShrubland\":\"#ffbb22\",\n",
    "    \"30\tGrassland\":\"#ffff4c\",\n",
    "    \"40\tCropland\":\"#f096ff\",\n",
    "    \"50\tBuilt-up\":\"#fa0000\",\n",
    "    \"60\tBare / sparse vegetation\":\"#b4b4b4\",\n",
    "    \"80\tPermanent water bodies\":\"#0064c8\",\n",
    "    \"90\tHerbaceous wetland\":\"#0096a0\",\n",
    "    \"95\tMangroves\":\"#00cf75\",\n",
    "    \"100 Moss and lichen\":\"#fae6a0\",\n",
    "\n",
    "}\n",
    "landcover=World_LandCover.clip(ghana.geometry())\n",
    "\n",
    "\n",
    "visualization = {\n",
    "    \"bands\": ['Map'],\n",
    "    \n",
    "}\n",
    "# Add layers for visualization\n",
    "Map.add_tile_layer(url, name=\"Google Satellite\", attribution=\"Google\")\n",
    "Map.addLayer(landcover, visualization, 'Land Cover', opacity=0.5)\n",
    "Map.add_legend(title=\"NLCD Land Cover Classification\", legend_dict=Legend_dic, position='bottomright')\n",
    "Map.centerObject(landcover, 7)\n",
    "Map.add_text(text='Land Cover of Ghana', position='topleft', fontcolor=\"#black\")\n",
    "Map.add_text(text='Designed_By:SMS', fontsize=10, position='bottomleft')\n",
    "Map.add_layer_control(position=\"topright\")\n",
    "# Map.to_html(\n",
    "#     \"GhanaLCD.html\",\n",
    "#     title=\"Ghana National Land Cover\",\n",
    "#     width=\"100px\",\n",
    "#     height=\"100px\")\n",
    "Map\n",
    "\n"
   ]
  },
  {
   "cell_type": "code",
   "execution_count": 67,
   "id": "d8c620e9",
   "metadata": {},
   "outputs": [
    {
     "data": {
      "text/html": [
       "\n",
       "            <style>\n",
       "                .geemap-dark {\n",
       "                    --jp-widgets-color: white;\n",
       "                    --jp-widgets-label-color: white;\n",
       "                    --jp-ui-font-color1: white;\n",
       "                    --jp-layout-color2: #454545;\n",
       "                    background-color: #383838;\n",
       "                }\n",
       "\n",
       "                .geemap-dark .jupyter-button {\n",
       "                    --jp-layout-color3: #383838;\n",
       "                }\n",
       "\n",
       "                .geemap-colab {\n",
       "                    background-color: var(--colab-primary-surface-color, white);\n",
       "                }\n",
       "\n",
       "                .geemap-colab .jupyter-button {\n",
       "                    --jp-layout-color3: var(--colab-primary-surface-color, white);\n",
       "                }\n",
       "            </style>\n",
       "            "
      ],
      "text/plain": [
       "<IPython.core.display.HTML object>"
      ]
     },
     "metadata": {},
     "output_type": "display_data"
    },
    {
     "data": {
      "application/vnd.jupyter.widget-view+json": {
       "model_id": "f9f655a99a1c437ca7fb1e1c4e2ace27",
       "version_major": 2,
       "version_minor": 0
      },
      "text/plain": [
       "Map(center=[54.98535499740582, -114.40511584284997], controls=(ScaleControl(options=['imperial', 'max_width', …"
      ]
     },
     "execution_count": 67,
     "metadata": {},
     "output_type": "execute_result"
    }
   ],
   "source": [
    "Map = geemap.Map(draw_ctrl=False, data_ctrl=False, measure_ctrl=False, zoom_ctrl=False, fullscreen_ctrl=False, toolbar_ctrl=False)\n",
    "World_LandCover= ee.ImageCollection('ESA/WorldCover/v200').first() #call the named dataset from google earth engine with band name Map\n",
    "\n",
    "\n",
    "visualization = {\n",
    "    \"bands\": ['Map'],\n",
    "    \n",
    "}\n",
    "#filter the dataset to canada_alberta to get the land cover of Ghana\n",
    "World_boundaries=ee.FeatureCollection(\"FAO/GAUL_SIMPLIFIED_500m/2015/level1\")\n",
    "Alberta=World_boundaries.filter(ee.Filter.eq('ADM1_NAME', 'Alberta'))\n",
    "vis_poly={\n",
    "    \"color\": \"0000ffff\", \"width\": 2, \"lineType\": \"solid\", \"fillColor\": \"FF000080\"\n",
    "}\n",
    "\n",
    "Legend_dic={\n",
    "    \"10\tTree cover\":\"#006400\",\n",
    "    \"20\tShrubland\":\"#ffbb22\",\n",
    "    \"30\tGrassland\":\"#ffff4c\",\n",
    "    \"40\tCropland\":\"#f096ff\",\n",
    "    \"50\tBuilt-up\":\"#fa0000\",\n",
    "    \"60\tBare / sparse vegetation\":\"#b4b4b4\",\n",
    "    \"70 Snow and ice\":\"#f0f0f0\",\n",
    "    \"80\tPermanent water bodies\":\"#0064c8\",\n",
    "    \"90\tHerbaceous wetland\":\"#0096a0\",\n",
    "    \"95\tMangroves\":\"#00cf75\",\n",
    "    \"100 Moss and lichen\":\"#fae6a0\",\n",
    "\n",
    "}\n",
    "ABLCD=World_LandCover.clip(Alberta.geometry())\n",
    "Canada_Alberta=geemap.ee_tile_layer(ABLCD, {}, name=\"Alberta\", opacity=0.5)\n",
    "Map.addLayer(ABLCD, visualization, 'Land Cover Alberta')\n",
    "Map.add_legend(title=\"NLCD Land Cover Classification\", legend_dict=Legend_dic, position='bottomright')\n",
    "Map.centerObject(ABLCD, 8)\n",
    "Map.add_text(text='Land Cover of Canada-Alberta', position='topleft', fontcolor=\"#black\")\n",
    "Map.add_text(text='Designed_By:SMS', fontsize=10, position='bottomleft')\n",
    "Map.add_layer_control(position=\"topright\")\n",
    "Map\n"
   ]
  },
  {
   "cell_type": "code",
   "execution_count": null,
   "id": "2e029777",
   "metadata": {},
   "outputs": [],
   "source": []
  }
 ],
 "metadata": {
  "kernelspec": {
   "display_name": "gee",
   "language": "python",
   "name": "python3"
  },
  "language_info": {
   "codemirror_mode": {
    "name": "ipython",
    "version": 3
   },
   "file_extension": ".py",
   "mimetype": "text/x-python",
   "name": "python",
   "nbconvert_exporter": "python",
   "pygments_lexer": "ipython3",
   "version": "3.12.9"
  }
 },
 "nbformat": 4,
 "nbformat_minor": 5
}
